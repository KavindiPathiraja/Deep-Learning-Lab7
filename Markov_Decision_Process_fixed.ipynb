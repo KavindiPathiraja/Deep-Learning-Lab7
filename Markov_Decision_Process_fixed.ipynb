{
  "cells": [
    {
      "cell_type": "markdown",
      "metadata": {
        "id": "view-in-github",
        "colab_type": "text"
      },
      "source": [
        "<a href=\"https://colab.research.google.com/github/KavindiPathiraja/Deep-Learning-Lab7/blob/main/Markov_Decision_Process_fixed.ipynb\" target=\"_parent\"><img src=\"https://colab.research.google.com/assets/colab-badge.svg\" alt=\"Open In Colab\"/></a>"
      ]
    },
    {
      "cell_type": "markdown",
      "metadata": {
        "id": "-LMwDZHlsAvn"
      },
      "source": [
        "# Markov Decision Process (MDP)"
      ]
    },
    {
      "cell_type": "markdown",
      "metadata": {
        "id": "rK2etKh-sAvo"
      },
      "source": [
        "### Ransalu Senanayake"
      ]
    },
    {
      "cell_type": "code",
      "execution_count": 1,
      "metadata": {
        "id": "Tlr-PNcssAvp"
      },
      "outputs": [],
      "source": [
        "import copy\n",
        "import timeit\n",
        "import numpy as np\n",
        "import matplotlib.pyplot as pl\n",
        "%matplotlib inline\n",
        "from ipywidgets import interactive\n",
        "import ipywidgets as widgets"
      ]
    },
    {
      "cell_type": "markdown",
      "metadata": {
        "id": "_f6VSXlQsAvs"
      },
      "source": [
        "Create the following grid world.\n",
        "\n",
        "**States:** A 10x10 grid\n",
        "\n",
        "**Actions:** Up, Down, Left, Right\n",
        "\n",
        "**Tranistion probabilities:**\n",
        "* 0.7 in the direction of action\n",
        "* 0.1 in the three other directions\n",
        "* The robot bounces back to the same state near edges\n",
        "\n",
        "**Rewards:**\n",
        "* (7,8) has a reward +10\n",
        "* (2,7) has a reward +3\n",
        "* (4,3) has a reward -5\n",
        "* (7,3) has a reward -10\n",
        "* No reward in other states\n",
        "\n",
        "This example is based on Decision Making Under Uncertainty by M.J. Kochenderfer."
      ]
    },
    {
      "cell_type": "code",
      "execution_count": 2,
      "metadata": {
        "id": "sbT7VOEQsAvt"
      },
      "outputs": [],
      "source": [
        "#Let's define MDP paras\n",
        "def createGrid10World():\n",
        "    def xy2s(y, x):\n",
        "        x = max(x, 0)\n",
        "        y = max(y, 0)\n",
        "        x = min(x, 9)\n",
        "        y = min(y, 9)\n",
        "        out = np.ravel_multi_index(np.array([x,y]), (10,10))\n",
        "        return out\n",
        "\n",
        "    def s2xy(s):\n",
        "        x, y = np.unravel_index(s, (10,10))\n",
        "        return y, x\n",
        "\n",
        "    def gridPlot(ax, im, title='', cmap='Blues'):\n",
        "        pl.imshow(im, interpolation='none', cmap=cmap, origin='lower')\n",
        "        pl.colorbar()\n",
        "        ax.set_xticks(np.arange(0, 10, 1));\n",
        "        ax.set_yticks(np.arange(0, 10, 1));\n",
        "        ax.set_xticklabels(np.arange(0, 10, 1));\n",
        "        ax.set_yticklabels(np.arange(0, 10, 1));\n",
        "        ax.set_xticks(np.arange(-.5, 10, 1), minor=True);\n",
        "        ax.set_yticks(np.arange(-.5, 10, 1), minor=True);\n",
        "        ax.grid(which='minor', color='w', linestyle='-', linewidth=1)\n",
        "        pl.title(title);\n",
        "        return\n",
        "\n",
        "    A = ['left', 'right', 'up', 'down']\n",
        "    S = np.arange(100)\n",
        "    T = np.zeros((len(S), len(A), len(S)))\n",
        "    R = np.zeros((len(S), len(A)))\n",
        "    for s in S:\n",
        "        x, y = s2xy(s)\n",
        "        if x == 2 and y == 7:\n",
        "            R[s, :] = 3\n",
        "        elif x == 7 and y == 8:\n",
        "            R[s, :] = 10\n",
        "        else:\n",
        "            if x == 7 and y == 3:\n",
        "                R[s, :] = -10\n",
        "            elif x == 4 and y == 3:\n",
        "                R[s, :] = -5\n",
        "            elif x == 0:\n",
        "                if y == 0 or y == 9:\n",
        "                    R[s, :] = -0.2\n",
        "                else:\n",
        "                    R[s, :] = -0.1\n",
        "                R[s, 0] = -0.7\n",
        "            elif x == 9:\n",
        "                if y == 0 or y == 9:\n",
        "                    R[s, :] = -0.2\n",
        "                else:\n",
        "                    R[s, :] = -0.1\n",
        "                R[s, 1] = -0.7\n",
        "            elif y == 0:\n",
        "                if x == 0 or x == 9:\n",
        "                    R[s, :] = -0.2\n",
        "                else:\n",
        "                    R[s, :] = -0.1\n",
        "                R[s, 3] = -0.7\n",
        "            elif y == 9:\n",
        "                if x == 0 or x == 9:\n",
        "                    R[s, :] = -0.2\n",
        "                else:\n",
        "                    R[s, :] = -0.1\n",
        "                R[s, 2] = -0.7\n",
        "\n",
        "            for a in A:\n",
        "                if a == 'left':\n",
        "                    T[s, 0, xy2s(x - 1, y)] += 0.7\n",
        "                    T[s, 0, xy2s(x + 1, y)] += 0.1\n",
        "                    T[s, 0, xy2s(x, y - 1)] += 0.1\n",
        "                    T[s, 0, xy2s(x, y + 1)] += 0.1\n",
        "                elif a == 'right':\n",
        "                    T[s, 1, xy2s(x + 1, y)] += 0.7\n",
        "                    T[s, 1, xy2s(x - 1, y)] += 0.1\n",
        "                    T[s, 1, xy2s(x, y - 1)] += 0.1\n",
        "                    T[s, 1, xy2s(x, y + 1)] += 0.1\n",
        "                elif a == 'up':\n",
        "                    T[s, 2, xy2s(x, y + 1)] += 0.7\n",
        "                    T[s, 2, xy2s(x, y - 1)] += 0.1\n",
        "                    T[s, 2, xy2s(x - 1, y)] += 0.1\n",
        "                    T[s, 2, xy2s(x + 1, y)] += 0.1\n",
        "                elif a == 'down':\n",
        "                    T[s, 3, xy2s(x, y - 1)] += 0.7\n",
        "                    T[s, 3, xy2s(x, y + 1)] += 0.1\n",
        "                    T[s, 3, xy2s(x - 1, y)] += 0.1\n",
        "                    T[s, 3, xy2s(x + 1, y)] += 0.1\n",
        "\n",
        "    for a, c_x, c_y in [(0,0,0), (0,0,9),(1,9,0),(1,9,9),(2,0,9),(2,9,9),(3,0,0),(3,9,0)]:\n",
        "        R[xy2s(c_x,c_y),a] = -0.8\n",
        "\n",
        "    discount = 0.9\n",
        "\n",
        "    nextStates = {}\n",
        "    for si in range(len(S)):\n",
        "        for ai in range(len(A)):\n",
        "            nextStates[(si,ai)] = np.where((T[si, ai, :] != 0) == True)[0]\n",
        "\n",
        "\n",
        "    return {'S':S, 'A':A, 'T':T, 'R':R, 'discount':discount, 'nextStates':nextStates, 'gridPlot':gridPlot, 'xy2s':xy2s, 's2xy':s2xy}"
      ]
    },
    {
      "cell_type": "code",
      "execution_count": 3,
      "metadata": {
        "id": "BylriiRqsAvv"
      },
      "outputs": [],
      "source": [
        "class MDP():\n",
        "    def __init__(self):\n",
        "        pass\n",
        "\n",
        "    def inbuilt_init(self, mdp_dict):\n",
        "        self.S = mdp_dict['S']\n",
        "        self.A = mdp_dict['A']\n",
        "        self.T = mdp_dict['T']\n",
        "        self.R = mdp_dict['R']\n",
        "        self.discount = mdp_dict['discount']\n",
        "        self.nextStates = mdp_dict['nextStates']\n",
        "        self.gridPlot = mdp_dict['gridPlot']\n",
        "        self.xy2s = mdp_dict['xy2s']\n",
        "        self.s2xy = mdp_dict['s2xy']\n",
        "\n",
        "    def transitions(self, s, a):\n",
        "        return [(self.T[s, a, s_next], s_next, self.R[s, a]) for s_next in self.nextStates[(s, a)]]"
      ]
    },
    {
      "cell_type": "code",
      "execution_count": 4,
      "metadata": {
        "colab": {
          "base_uri": "https://localhost:8080/",
          "height": 1000
        },
        "id": "QGcCuJpasAvy",
        "outputId": "cd154ba9-7887-43a8-9e5a-16ae7493aaf5"
      },
      "outputs": [
        {
          "output_type": "display_data",
          "data": {
            "text/plain": [
              "<Figure size 300x300 with 2 Axes>"
            ],
            "image/png": "[encoded data removed]"
          },
          "metadata": {}
        },
        {
          "output_type": "display_data",
          "data": {
            "text/plain": [
              "<Figure size 1500x300 with 8 Axes>"
            ],
            "image/png": "[encoded data removed]"
          },
          "metadata": {}
        },
        {
          "output_type": "display_data",
          "data": {
            "text/plain": [
              "<Figure size 1500x300 with 8 Axes>"
            ],
            "image/png": "[encoded data removed]"
          },
          "metadata": {}
        },
        {
          "output_type": "display_data",
          "data": {
            "text/plain": [
              "<Figure size 1500x300 with 8 Axes>"
            ],
            "image/png": "[encoded data removed]"
          },
          "metadata": {}
        }
      ],
      "source": [
        "#Define the MDP\n",
        "mdp = MDP()\n",
        "mdp.inbuilt_init(mdp_dict=createGrid10World())\n",
        "\n",
        "#Plot states\n",
        "pl.figure(figsize=(3,3))\n",
        "mdp.gridPlot(ax=pl.gca(), im=mdp.S.reshape((10,10)), title='States', cmap='Greys')\n",
        "\n",
        "#Plot rewards\n",
        "pl.figure(figsize=(15,3))\n",
        "pl.suptitle('Rewards', fontsize=15)\n",
        "for a in range(4):\n",
        "    pl.subplot(1,4,a+1)\n",
        "    mdp.gridPlot(ax=pl.gca(), im=mdp.R[:,a].reshape((10,10)), title='a='+mdp.A[a], cmap='jet')\n",
        "pl.show()\n",
        "\n",
        "#Plot rewards\n",
        "pl.figure(figsize=(15,3))\n",
        "pl.suptitle('Rewards - clipped larger +ve values for visualizing the edges', fontsize=15)\n",
        "for a in range(4):\n",
        "    pl.subplot(1,4,a+1)\n",
        "    mdp.gridPlot(ax=pl.gca(), im=np.clip(mdp.R[:,a].reshape((10,10)), -1, -0.5), title='a='+mdp.A[a], cmap='jet')\n",
        "pl.show()\n",
        "\n",
        "#Plot rewards\n",
        "s0_x, s0_y = 3, 5\n",
        "s0 = mdp.xy2s(s0_x, s0_y)\n",
        "pl.figure(figsize=(15,3))\n",
        "pl.suptitle('Transition probabilities T(s1|s0=({},{}),a)'.format(s0_x, s0_y), fontsize=15)\n",
        "for a in range(4):\n",
        "    pl.subplot(1,4,a+1)\n",
        "    mdp.gridPlot(ax=pl.gca(), im=mdp.T[s0,a,:].reshape((10,10)), title='a='+mdp.A[a], cmap='Blues')\n",
        "pl.show()"
      ]
    },
    {
      "cell_type": "code",
      "execution_count": 5,
      "metadata": {
        "colab": {
          "base_uri": "https://localhost:8080/",
          "height": 609,
          "referenced_widgets": [
            "475562dac57d4125a6766c9a3507f10d",
            "5e97948248584aa783c85b62676dbfb4",
            "cd79a6e50a9c417ab548950d6b8e3557",
            "0ea51e0b448947d8b6f83f79dc55e1cf",
            "e274c3ad061845a4b2cacfba5393ff93",
            "a7006a11629542ac8555e8970f14c4af",
            "da96c4a3adcb43b8bbd1012bbe9022bd",
            "789b2808b36c4ac186a8e4e4272a88e5",
            "3b1dda61fbe9432cac5388026e5429f9",
            "11990acca3ab422d819354fa4b1fcce0",
            "d5fbd21a87014792b7ac061049a8f9c4",
            "7bee788fce4646edb2059b4ddd03c25d",
            "ca4e39159c0845b08df80d798164e659"
          ]
        },
        "id": "WSh9F6O2sAv1",
        "outputId": "b13ff14c-27ca-441a-de3e-1a92cfd5308e"
      },
      "outputs": [
        {
          "output_type": "display_data",
          "data": {
            "text/plain": [
              "interactive(children=(Text(value='4', description='s0_x'), Text(value='5', description='s0_y'), ToggleButtons(…"
            ],
            "application/vnd.jupyter.widget-view+json": {
              "version_major": 2,
              "version_minor": 0,
              "model_id": "475562dac57d4125a6766c9a3507f10d"
            }
          },
          "metadata": {}
        }
      ],
      "source": [
        "#An interactive plot of transition probabilities\n",
        "def f(s0_x, s0_y, action):\n",
        "    a = mdp.A.index(action)\n",
        "    s0 = mdp.xy2s(int(s0_x), int(s0_y))\n",
        "    pl.figure(figsize=(6,6))\n",
        "    title = 'Transition probabilities T(s1|s0=({},{}),a={})'.format(int(s0_x),int(s0_y),action)\n",
        "    mdp.gridPlot(ax=pl.gca(), im=mdp.T[s0,a,:].reshape((10,10)), title=title, cmap='Blues')\n",
        "    pl.show()\n",
        "\n",
        "interactive_plot = interactive(f, s0_x='4', s0_y='5', action=widgets.ToggleButtons(options=['left', 'right', 'up', 'down']))\n",
        "interactive_plot"
      ]
    },
    {
      "cell_type": "markdown",
      "metadata": {
        "id": "CRtcTdgOsAv4"
      },
      "source": [
        "### 1. Policy evaluation\n",
        "\n",
        "Computing the utility, U.\n",
        "\n",
        "$U^\\pi_k(s) = R(s, \\pi(s)) + \\gamma \\sum_{s'} T(s' \\mid s, \\pi(s))U^\\pi_{k-1}(s')$"
      ]
    },
    {
      "cell_type": "code",
      "execution_count": 6,
      "metadata": {
        "colab": {
          "base_uri": "https://localhost:8080/",
          "height": 307
        },
        "id": "cT2yS--rsAv4",
        "outputId": "3c93aa02-2ec9-441e-ded5-c24300ff8a2b"
      },
      "outputs": [
        {
          "output_type": "display_data",
          "data": {
            "text/plain": [
              "<Figure size 1500x300 with 8 Axes>"
            ],
            "image/png": "[encoded data removed]"
          },
          "metadata": {}
        }
      ],
      "source": [
        "def iterativePolicyEvaluation(mdp, policy, numIterations=10):\n",
        "    U = np.zeros(len(mdp.S))\n",
        "    U_old = copy.copy(U)\n",
        "    for t in range(numIterations):\n",
        "        #type your code here\n",
        "        U_old = copy.copy(U)   # keep previous utilities\n",
        "        for s in mdp.S:\n",
        "            # Bellman expectation equation under fixed policy\n",
        "            U[s] = sum([\n",
        "                mdp.T[s, policy, s_next] * (mdp.R[s, policy] + mdp.discount * U_old[s_next])\n",
        "                for s_next in mdp.nextStates[(s, policy)]\n",
        "            ])\n",
        "    return U\n",
        "\n",
        "numIterations = 5\n",
        "pl.figure(figsize=(15,3))\n",
        "pl.suptitle('Utilities', fontsize=15)\n",
        "for a in range(4):\n",
        "    pl.subplot(1,4,a+1)\n",
        "    U = iterativePolicyEvaluation(mdp=mdp, policy=a, numIterations=numIterations)\n",
        "    mdp.gridPlot(ax=pl.gca(), im=U.reshape(10,10), title='a='+mdp.A[a], cmap='jet')\n",
        "pl.show()\n",
        "#print(np.round(U.reshape(10,10),3))"
      ]
    },
    {
      "cell_type": "code",
      "execution_count": 7,
      "metadata": {
        "colab": {
          "base_uri": "https://localhost:8080/",
          "height": 346,
          "referenced_widgets": [
            "78881bb386c6445d80b35c202f830411",
            "26c5a1fe1f124195b5e3908b6389b730",
            "e93c22a0ad884decb0f8f55079e0e66a",
            "5d785c2228464cf79560c7cf19f7c26e",
            "a023c42891bb41678705627b55357de7",
            "0a6e31d0344548398c6ff59d40f0ac00",
            "f54d6d44aee34a4a82e7ef148ae0d1c9",
            "872a03571dc04c8c9a28af3d97814047",
            "d95748d482254fab802f570fceebb39c",
            "45aaa23447c548d5b3fe6f32a34d5194"
          ]
        },
        "id": "XcMijKgbsAv7",
        "outputId": "f4399ec6-c153-485c-e8b3-0e8fbb872383"
      },
      "outputs": [
        {
          "output_type": "display_data",
          "data": {
            "text/plain": [
              "interactive(children=(ToggleButtons(description='action', options=('left', 'right', 'up', 'down'), value='left…"
            ],
            "application/vnd.jupyter.widget-view+json": {
              "version_major": 2,
              "version_minor": 0,
              "model_id": "78881bb386c6445d80b35c202f830411"
            }
          },
          "metadata": {}
        }
      ],
      "source": [
        "def f(action, numIter=1):\n",
        "    U = iterativePolicyEvaluation(mdp, policy=mdp.A.index(action), numIterations=numIter)\n",
        "    pl.figure(figsize=(3,3))\n",
        "    mdp.gridPlot(ax=pl.gca(), im=U.reshape(10,10), title='Utility', cmap='jet')\n",
        "    pl.show()\n",
        "\n",
        "interactive_plot = interactive(f, action=widgets.ToggleButtons(options=['left', 'right', 'up', 'down']),\n",
        "                               numIter=widgets.IntSlider(min=0, max=20, step=1, value=0))\n",
        "interactive_plot"
      ]
    },
    {
      "cell_type": "code",
      "execution_count": 8,
      "metadata": {
        "colab": {
          "base_uri": "https://localhost:8080/",
          "height": 282
        },
        "id": "-L8qvyKAsAv9",
        "outputId": "7ca96f41-1c94-40b6-a130-ad8dc1a9ed64"
      },
      "outputs": [
        {
          "output_type": "display_data",
          "data": {
            "text/plain": [
              "<Figure size 300x300 with 2 Axes>"
            ],
            "image/png": "[encoded data removed]"
          },
          "metadata": {}
        }
      ],
      "source": [
        "#Value iteration\n",
        "def valueIteration(mdp, numIterations=1):\n",
        "    U = np.zeros(len(mdp.S))\n",
        "    U_old = copy.copy(U)\n",
        "    for t in range(numIterations):\n",
        "        #type your code here\n",
        "        U_old = copy.copy(U)\n",
        "        for s in mdp.S:\n",
        "            # Bellman optimality update\n",
        "            U[s] = max([\n",
        "                sum([\n",
        "                    mdp.T[s, a, s_next] * (mdp.R[s, a] + mdp.discount * U_old[s_next])\n",
        "                    for s_next in mdp.nextStates[(s, a)]\n",
        "                ])\n",
        "                for a in range(len(mdp.A))   # loop over all actions\n",
        "            ])\n",
        "    return U\n",
        "\n",
        "def policyExtration(mdp, U):\n",
        "    policy = np.zeros(len(mdp.S))\n",
        "    #type your code here\n",
        "    for s in mdp.S:\n",
        "        # choose action that maximizes expected utility\n",
        "        action_values = []\n",
        "        for a in range(len(mdp.A)):\n",
        "            q_val = sum([\n",
        "                mdp.T[s, a, s_next] * (mdp.R[s, a] + mdp.discount * U[s_next])\n",
        "                for s_next in mdp.nextStates[(s, a)]\n",
        "            ])\n",
        "            action_values.append(q_val)\n",
        "        policy[s] = np.argmax(action_values)\n",
        "    return policy\n",
        "\n",
        "U = valueIteration(mdp, numIterations=2)\n",
        "policy = policyExtration(mdp, U=U)\n",
        "pl.figure(figsize=(3,3))\n",
        "mdp.gridPlot(ax=pl.gca(), im=U.reshape(10,10), title='Utility', cmap='jet')\n",
        "for s in range(100):\n",
        "    x, y = mdp.s2xy(s)\n",
        "    if policy[s] == 0:\n",
        "        m='\\u02C2'\n",
        "    elif policy[s] == 1:\n",
        "        m='\\u02C3'\n",
        "    elif policy[s] == 2:\n",
        "        m='\\u02C4'\n",
        "    elif policy[s] == 3:\n",
        "        m='\\u02C5'\n",
        "    pl.text(x-0.5,y-1,m,color='k',size=20)\n",
        "pl.show()"
      ]
    },
    {
      "cell_type": "code",
      "execution_count": 9,
      "metadata": {
        "colab": {
          "base_uri": "https://localhost:8080/",
          "height": 331,
          "referenced_widgets": [
            "1ff681988d7246fe89e9a819821a64b7",
            "8b954506feba49c0a53b6dc46f079385",
            "2a3a55f5fdbd420b923f14285d087e59",
            "64422d54d45b457cbcb053482b1ef21a",
            "7645b336a5ed4dba88c7513944b7b406",
            "8d7952a0150748b1a36ff4bcc3041635",
            "a19cddb52631458cae8153cf12fe64c7"
          ]
        },
        "id": "W7Hvi7YdsAv_",
        "outputId": "d7d52053-2aee-4688-934b-cfd544ec778d"
      },
      "outputs": [
        {
          "output_type": "display_data",
          "data": {
            "text/plain": [
              "interactive(children=(IntSlider(value=0, description='numIter', max=20), Output()), _dom_classes=('widget-inte…"
            ],
            "application/vnd.jupyter.widget-view+json": {
              "version_major": 2,
              "version_minor": 0,
              "model_id": "1ff681988d7246fe89e9a819821a64b7"
            }
          },
          "metadata": {}
        }
      ],
      "source": [
        "def f(numIter=1):\n",
        "    start_time = timeit.default_timer()\n",
        "    U = valueIteration(mdp, numIterations=numIter)\n",
        "    policy = policyExtration(mdp, U=U)\n",
        "    elapsed = timeit.default_timer() - start_time\n",
        "    print('time=', np.round(elapsed*1000,2))\n",
        "    pl.figure(figsize=(3,3))\n",
        "    mdp.gridPlot(ax=pl.gca(), im=U.reshape(10,10), title='Utility', cmap='jet')\n",
        "    for s in range(100):\n",
        "        x, y = mdp.s2xy(s)\n",
        "        if policy[s] == 0:\n",
        "            m='\\u02C2'\n",
        "        elif policy[s] == 1:\n",
        "            m='\\u02C3'\n",
        "        elif policy[s] == 2:\n",
        "            m='\\u02C4'\n",
        "        elif policy[s] == 3:\n",
        "            m='\\u02C5'\n",
        "        pl.text(x-0.5,y-1,m,color='k',size=20)\n",
        "    pl.show()\n",
        "\n",
        "interactive_plot = interactive(f, numIter=widgets.IntSlider(min=0, max=20, step=1, value=0))\n",
        "interactive_plot"
      ]
    },
    {
      "cell_type": "markdown",
      "metadata": {
        "id": "6il1i5CesAwB"
      },
      "source": [
        "### 2. Policy iteration\n",
        "\n",
        "Policy evaluation can be used in policy iteration:\n",
        "1. Given the current policy, compute U\n",
        "2. Using U, compute a new policy"
      ]
    },
    {
      "cell_type": "code",
      "execution_count": 10,
      "metadata": {
        "id": "5VzzQB0jsAwC"
      },
      "outputs": [],
      "source": [
        "def policyIteration(mdp, numIterations=1):\n",
        "    U_pi_k = np.zeros(len(mdp.S)) #initial values\n",
        "    pi_k = np.random.randint(low=0,high=4,size=len(mdp.S),dtype=int) #initial policy\n",
        "    pi_kp1 = copy.copy(pi_k)\n",
        "    for t in range(numIterations):\n",
        "        #Policy evaluation: compute U_pi_k\n",
        "          #type your code here\n",
        "        U_old = copy.copy(U_pi_k)\n",
        "        for s in mdp.S:\n",
        "            U_pi_k[s] = sum([\n",
        "                mdp.T[s, pi_k[s], s_next] * (mdp.R[s, pi_k[s]] + mdp.discount * U_old[s_next])\n",
        "                for s_next in mdp.nextStates[(s, pi_k[s])]\n",
        "            ])\n",
        "        #Policy improvement\n",
        "          #type your code here\n",
        "        for s in mdp.S:\n",
        "            pi_kp1[s] = np.argmax([\n",
        "                sum([\n",
        "                     mdp.T[s, a, s_next] * (mdp.R[s, a] + mdp.discount * U_pi_k[s_next])\n",
        "                    for s_next in mdp.nextStates[(s, a)]\n",
        "                ])\n",
        "                for a in range(len(mdp.A))\n",
        "            ])\n",
        "\n",
        "        # if policy is stable, break\n",
        "        if np.array_equal(pi_k, pi_kp1):\n",
        "            break\n",
        "        else:\n",
        "            pi_k = copy.copy(pi_kp1)\n",
        "    return U_pi_k, pi_kp1\n",
        "\n",
        "U_pi_k, pi_kp1 = policyIteration(mdp, numIterations=2)"
      ]
    },
    {
      "cell_type": "code",
      "execution_count": 11,
      "metadata": {
        "colab": {
          "base_uri": "https://localhost:8080/",
          "height": 331,
          "referenced_widgets": [
            "d05572735c734b1e97a7f5269e56086e",
            "694a631f1fa843aab5d35e3c5408f367",
            "e570140f3a9244e1a7f042c05f45dbff",
            "ebff08c0b0a64756a0d7dcbe2f90be63",
            "d57c64c13804468588e7bb89fef40198",
            "532f6760ad664852b7856dce04089df0",
            "79ac191693c34f16a9072420ca8fca69"
          ]
        },
        "id": "lSHVZ0CwsAwE",
        "outputId": "9b0ef531-fff7-47fd-c9a2-07b7cfa721ac"
      },
      "outputs": [
        {
          "output_type": "display_data",
          "data": {
            "text/plain": [
              "interactive(children=(IntSlider(value=0, description='numIter', max=20), Output()), _dom_classes=('widget-inte…"
            ],
            "application/vnd.jupyter.widget-view+json": {
              "version_major": 2,
              "version_minor": 0,
              "model_id": "d05572735c734b1e97a7f5269e56086e"
            }
          },
          "metadata": {}
        }
      ],
      "source": [
        "def f(numIter=1):\n",
        "    start_time = timeit.default_timer()\n",
        "    # code you want to evaluate\n",
        "    value, policy = policyIteration(mdp, numIterations=numIter)\n",
        "    elapsed = timeit.default_timer() - start_time\n",
        "    print('time=', np.round(elapsed*1000,2))\n",
        "    pl.figure(figsize=(3,3))\n",
        "    mdp.gridPlot(ax=pl.gca(), im=value.reshape(10,10), title='Utility', cmap='jet')\n",
        "    for s in range(100):\n",
        "        x, y = mdp.s2xy(s)\n",
        "        if policy[s] == 0:\n",
        "            m='\\u02C2'\n",
        "        elif policy[s] == 1:\n",
        "            m='\\u02C3'\n",
        "        elif policy[s] == 2:\n",
        "            m='\\u02C4'\n",
        "        elif policy[s] == 3:\n",
        "            m='\\u02C5'\n",
        "        pl.text(x-0.5,y-1,m,color='k',size=20)\n",
        "    pl.show()\n",
        "\n",
        "interactive_plot = interactive(f, numIter=widgets.IntSlider(min=0, max=20, step=1, value=0))\n",
        "interactive_plot"
      ]
    }
  ],
  "metadata": {
    "@webio": {
      "lastCommId": "21E8675012EB469B8DD225E5191E1594",
      "lastKernelId": "ec90fbfa-47cf-4656-a1ce-4ca4670e6701"
    },
    "colab": {
      "provenance": [],
      "include_colab_link": true
    },
    "kernelspec": {
      "display_name": "Python 3",
      "language": "python",
      "name": "python3"
    },
    "language_info": {
      "codemirror_mode": {
        "name": "ipython",
        "version": 3
      },
      "file_extension": ".py",
      "mimetype": "text/x-python",
      "name": "python",
      "nbconvert_exporter": "python",
      "pygments_lexer": "ipython3",
      "version": "3.8.8"
    },
    "widgets": {
      "application/vnd.jupyter.widget-state+json": {
        "475562dac57d4125a6766c9a3507f10d": {
          "model_module": "@jupyter-widgets/controls",
          "model_name": "VBoxModel",
          "model_module_version": "1.5.0",
          "state": {
            "_dom_classes": [
              "widget-interact"
            ],
            "_model_module": "@jupyter-widgets/controls",
            "_model_module_version": "1.5.0",
            "_model_name": "VBoxModel",
            "_view_count": null,
            "_view_module": "@jupyter-widgets/controls",
            "_view_module_version": "1.5.0",
            "_view_name": "VBoxView",
            "box_style": "",
            "children": [
              "IPY_MODEL_5e97948248584aa783c85b62676dbfb4",
              "IPY_MODEL_cd79a6e50a9c417ab548950d6b8e3557",
              "IPY_MODEL_0ea51e0b448947d8b6f83f79dc55e1cf",
              "IPY_MODEL_e274c3ad061845a4b2cacfba5393ff93"
            ],
            "layout": "IPY_MODEL_a7006a11629542ac8555e8970f14c4af"
          }
        },
        "5e97948248584aa783c85b62676dbfb4": {
          "model_module": "@jupyter-widgets/controls",
          "model_name": "TextModel",
          "model_module_version": "1.5.0",
          "state": {
            "_dom_classes": [],
            "_model_module": "@jupyter-widgets/controls",
            "_model_module_version": "1.5.0",
            "_model_name": "TextModel",
            "_view_count": null,
            "_view_module": "@jupyter-widgets/controls",
            "_view_module_version": "1.5.0",
            "_view_name": "TextView",
            "continuous_update": true,
            "description": "s0_x",
            "description_tooltip": null,
            "disabled": false,
            "layout": "IPY_MODEL_da96c4a3adcb43b8bbd1012bbe9022bd",
            "placeholder": "​",
            "style": "IPY_MODEL_789b2808b36c4ac186a8e4e4272a88e5",
            "value": "4"
          }
        },
        "cd79a6e50a9c417ab548950d6b8e3557": {
          "model_module": "@jupyter-widgets/controls",
          "model_name": "TextModel",
          "model_module_version": "1.5.0",
          "state": {
            "_dom_classes": [],
            "_model_module": "@jupyter-widgets/controls",
            "_model_module_version": "1.5.0",
            "_model_name": "TextModel",
            "_view_count": null,
            "_view_module": "@jupyter-widgets/controls",
            "_view_module_version": "1.5.0",
            "_view_name": "TextView",
            "continuous_update": true,
            "description": "s0_y",
            "description_tooltip": null,
            "disabled": false,
            "layout": "IPY_MODEL_3b1dda61fbe9432cac5388026e5429f9",
            "placeholder": "​",
            "style": "IPY_MODEL_11990acca3ab422d819354fa4b1fcce0",
            "value": "5"
          }
        },
        "0ea51e0b448947d8b6f83f79dc55e1cf": {
          "model_module": "@jupyter-widgets/controls",
          "model_name": "ToggleButtonsModel",
          "model_module_version": "1.5.0",
          "state": {
            "_dom_classes": [],
            "_model_module": "@jupyter-widgets/controls",
            "_model_module_version": "1.5.0",
            "_model_name": "ToggleButtonsModel",
            "_options_labels": [
              "left",
              "right",
              "up",
              "down"
            ],
            "_view_count": null,
            "_view_module": "@jupyter-widgets/controls",
            "_view_module_version": "1.5.0",
            "_view_name": "ToggleButtonsView",
            "button_style": "",
            "description": "action",
            "description_tooltip": null,
            "disabled": false,
            "icons": [],
            "index": 0,
            "layout": "IPY_MODEL_d5fbd21a87014792b7ac061049a8f9c4",
            "style": "IPY_MODEL_7bee788fce4646edb2059b4ddd03c25d",
            "tooltips": []
          }
        },
        "e274c3ad061845a4b2cacfba5393ff93": {
          "model_module": "@jupyter-widgets/output",
          "model_name": "OutputModel",
          "model_module_version": "1.0.0",
          "state": {
            "_dom_classes": [],
            "_model_module": "@jupyter-widgets/output",
            "_model_module_version": "1.0.0",
            "_model_name": "OutputModel",
            "_view_count": null,
            "_view_module": "@jupyter-widgets/output",
            "_view_module_version": "1.0.0",
            "_view_name": "OutputView",
            "layout": "IPY_MODEL_ca4e39159c0845b08df80d798164e659",
            "msg_id": "",
            "outputs": [
              {
                "output_type": "display_data",
                "data": {
                  "text/plain": "<Figure size 600x600 with 2 Axes>",
                  "image/png": "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\n"
                },
                "metadata": {}
              }
            ]
          }
        },
        "a7006a11629542ac8555e8970f14c4af": {
          "model_module": "@jupyter-widgets/base",
          "model_name": "LayoutModel",
          "model_module_version": "1.2.0",
          "state": {
            "_model_module": "@jupyter-widgets/base",
            "_model_module_version": "1.2.0",
            "_model_name": "LayoutModel",
            "_view_count": null,
            "_view_module": "@jupyter-widgets/base",
            "_view_module_version": "1.2.0",
            "_view_name": "LayoutView",
            "align_content": null,
            "align_items": null,
            "align_self": null,
            "border": null,
            "bottom": null,
            "display": null,
            "flex": null,
            "flex_flow": null,
            "grid_area": null,
            "grid_auto_columns": null,
            "grid_auto_flow": null,
            "grid_auto_rows": null,
            "grid_column": null,
            "grid_gap": null,
            "grid_row": null,
            "grid_template_areas": null,
            "grid_template_columns": null,
            "grid_template_rows": null,
            "height": null,
            "justify_content": null,
            "justify_items": null,
            "left": null,
            "margin": null,
            "max_height": null,
            "max_width": null,
            "min_height": null,
            "min_width": null,
            "object_fit": null,
            "object_position": null,
            "order": null,
            "overflow": null,
            "overflow_x": null,
            "overflow_y": null,
            "padding": null,
            "right": null,
            "top": null,
            "visibility": null,
            "width": null
          }
        },
        "da96c4a3adcb43b8bbd1012bbe9022bd": {
          "model_module": "@jupyter-widgets/base",
          "model_name": "LayoutModel",
          "model_module_version": "1.2.0",
          "state": {
            "_model_module": "@jupyter-widgets/base",
            "_model_module_version": "1.2.0",
            "_model_name": "LayoutModel",
            "_view_count": null,
            "_view_module": "@jupyter-widgets/base",
            "_view_module_version": "1.2.0",
            "_view_name": "LayoutView",
            "align_content": null,
            "align_items": null,
            "align_self": null,
            "border": null,
            "bottom": null,
            "display": null,
            "flex": null,
            "flex_flow": null,
            "grid_area": null,
            "grid_auto_columns": null,
            "grid_auto_flow": null,
            "grid_auto_rows": null,
            "grid_column": null,
            "grid_gap": null,
            "grid_row": null,
            "grid_template_areas": null,
            "grid_template_columns": null,
            "grid_template_rows": null,
            "height": null,
            "justify_content": null,
            "justify_items": null,
            "left": null,
            "margin": null,
            "max_height": null,
            "max_width": null,
            "min_height": null,
            "min_width": null,
            "object_fit": null,
            "object_position": null,
            "order": null,
            "overflow": null,
            "overflow_x": null,
            "overflow_y": null,
            "padding": null,
            "right": null,
            "top": null,
            "visibility": null,
            "width": null
          }
        },
        "789b2808b36c4ac186a8e4e4272a88e5": {
          "model_module": "@jupyter-widgets/controls",
          "model_name": "DescriptionStyleModel",
          "model_module_version": "1.5.0",
          "state": {
            "_model_module": "@jupyter-widgets/controls",
            "_model_module_version": "1.5.0",
            "_model_name": "DescriptionStyleModel",
            "_view_count": null,
            "_view_module": "@jupyter-widgets/base",
            "_view_module_version": "1.2.0",
            "_view_name": "StyleView",
            "description_width": ""
          }
        },
        "3b1dda61fbe9432cac5388026e5429f9": {
          "model_module": "@jupyter-widgets/base",
          "model_name": "LayoutModel",
          "model_module_version": "1.2.0",
          "state": {
            "_model_module": "@jupyter-widgets/base",
            "_model_module_version": "1.2.0",
            "_model_name": "LayoutModel",
            "_view_count": null,
            "_view_module": "@jupyter-widgets/base",
            "_view_module_version": "1.2.0",
            "_view_name": "LayoutView",
            "align_content": null,
            "align_items": null,
            "align_self": null,
            "border": null,
            "bottom": null,
            "display": null,
            "flex": null,
            "flex_flow": null,
            "grid_area": null,
            "grid_auto_columns": null,
            "grid_auto_flow": null,
            "grid_auto_rows": null,
            "grid_column": null,
            "grid_gap": null,
            "grid_row": null,
            "grid_template_areas": null,
            "grid_template_columns": null,
            "grid_template_rows": null,
            "height": null,
            "justify_content": null,
            "justify_items": null,
            "left": null,
            "margin": null,
            "max_height": null,
            "max_width": null,
            "min_height": null,
            "min_width": null,
            "object_fit": null,
            "object_position": null,
            "order": null,
            "overflow": null,
            "overflow_x": null,
            "overflow_y": null,
            "padding": null,
            "right": null,
            "top": null,
            "visibility": null,
            "width": null
          }
        },
        "11990acca3ab422d819354fa4b1fcce0": {
          "model_module": "@jupyter-widgets/controls",
          "model_name": "DescriptionStyleModel",
          "model_module_version": "1.5.0",
          "state": {
            "_model_module": "@jupyter-widgets/controls",
            "_model_module_version": "1.5.0",
            "_model_name": "DescriptionStyleModel",
            "_view_count": null,
            "_view_module": "@jupyter-widgets/base",
            "_view_module_version": "1.2.0",
            "_view_name": "StyleView",
            "description_width": ""
          }
        },
        "d5fbd21a87014792b7ac061049a8f9c4": {
          "model_module": "@jupyter-widgets/base",
          "model_name": "LayoutModel",
          "model_module_version": "1.2.0",
          "state": {
            "_model_module": "@jupyter-widgets/base",
            "_model_module_version": "1.2.0",
            "_model_name": "LayoutModel",
            "_view_count": null,
            "_view_module": "@jupyter-widgets/base",
            "_view_module_version": "1.2.0",
            "_view_name": "LayoutView",
            "align_content": null,
            "align_items": null,
            "align_self": null,
            "border": null,
            "bottom": null,
            "display": null,
            "flex": null,
            "flex_flow": null,
            "grid_area": null,
            "grid_auto_columns": null,
            "grid_auto_flow": null,
            "grid_auto_rows": null,
            "grid_column": null,
            "grid_gap": null,
            "grid_row": null,
            "grid_template_areas": null,
            "grid_template_columns": null,
            "grid_template_rows": null,
            "height": null,
            "justify_content": null,
            "justify_items": null,
            "left": null,
            "margin": null,
            "max_height": null,
            "max_width": null,
            "min_height": null,
            "min_width": null,
            "object_fit": null,
            "object_position": null,
            "order": null,
            "overflow": null,
            "overflow_x": null,
            "overflow_y": null,
            "padding": null,
            "right": null,
            "top": null,
            "visibility": null,
            "width": null
          }
        },
        "7bee788fce4646edb2059b4ddd03c25d": {
          "model_module": "@jupyter-widgets/controls",
          "model_name": "ToggleButtonsStyleModel",
          "model_module_version": "1.5.0",
          "state": {
            "_model_module": "@jupyter-widgets/controls",
            "_model_module_version": "1.5.0",
            "_model_name": "ToggleButtonsStyleModel",
            "_view_count": null,
            "_view_module": "@jupyter-widgets/base",
            "_view_module_version": "1.2.0",
            "_view_name": "StyleView",
            "button_width": "",
            "description_width": "",
            "font_weight": ""
          }
        },
        "ca4e39159c0845b08df80d798164e659": {
          "model_module": "@jupyter-widgets/base",
          "model_name": "LayoutModel",
          "model_module_version": "1.2.0",
          "state": {
            "_model_module": "@jupyter-widgets/base",
            "_model_module_version": "1.2.0",
            "_model_name": "LayoutModel",
            "_view_count": null,
            "_view_module": "@jupyter-widgets/base",
            "_view_module_version": "1.2.0",
            "_view_name": "LayoutView",
            "align_content": null,
            "align_items": null,
            "align_self": null,
            "border": null,
            "bottom": null,
            "display": null,
            "flex": null,
            "flex_flow": null,
            "grid_area": null,
            "grid_auto_columns": null,
            "grid_auto_flow": null,
            "grid_auto_rows": null,
            "grid_column": null,
            "grid_gap": null,
            "grid_row": null,
            "grid_template_areas": null,
            "grid_template_columns": null,
            "grid_template_rows": null,
            "height": null,
            "justify_content": null,
            "justify_items": null,
            "left": null,
            "margin": null,
            "max_height": null,
            "max_width": null,
            "min_height": null,
            "min_width": null,
            "object_fit": null,
            "object_position": null,
            "order": null,
            "overflow": null,
            "overflow_x": null,
            "overflow_y": null,
            "padding": null,
            "right": null,
            "top": null,
            "visibility": null,
            "width": null
          }
        },
        "78881bb386c6445d80b35c202f830411": {
          "model_module": "@jupyter-widgets/controls",
          "model_name": "VBoxModel",
          "model_module_version": "1.5.0",
          "state": {
            "_dom_classes": [
              "widget-interact"
            ],
            "_model_module": "@jupyter-widgets/controls",
            "_model_module_version": "1.5.0",
            "_model_name": "VBoxModel",
            "_view_count": null,
            "_view_module": "@jupyter-widgets/controls",
            "_view_module_version": "1.5.0",
            "_view_name": "VBoxView",
            "box_style": "",
            "children": [
              "IPY_MODEL_26c5a1fe1f124195b5e3908b6389b730",
              "IPY_MODEL_e93c22a0ad884decb0f8f55079e0e66a",
              "IPY_MODEL_5d785c2228464cf79560c7cf19f7c26e"
            ],
            "layout": "IPY_MODEL_a023c42891bb41678705627b55357de7"
          }
        },
        "26c5a1fe1f124195b5e3908b6389b730": {
          "model_module": "@jupyter-widgets/controls",
          "model_name": "ToggleButtonsModel",
          "model_module_version": "1.5.0",
          "state": {
            "_dom_classes": [],
            "_model_module": "@jupyter-widgets/controls",
            "_model_module_version": "1.5.0",
            "_model_name": "ToggleButtonsModel",
            "_options_labels": [
              "left",
              "right",
              "up",
              "down"
            ],
            "_view_count": null,
            "_view_module": "@jupyter-widgets/controls",
            "_view_module_version": "1.5.0",
            "_view_name": "ToggleButtonsView",
            "button_style": "",
            "description": "action",
            "description_tooltip": null,
            "disabled": false,
            "icons": [],
            "index": 0,
            "layout": "IPY_MODEL_0a6e31d0344548398c6ff59d40f0ac00",
            "style": "IPY_MODEL_f54d6d44aee34a4a82e7ef148ae0d1c9",
            "tooltips": []
          }
        },
        "e93c22a0ad884decb0f8f55079e0e66a": {
          "model_module": "@jupyter-widgets/controls",
          "model_name": "IntSliderModel",
          "model_module_version": "1.5.0",
          "state": {
            "_dom_classes": [],
            "_model_module": "@jupyter-widgets/controls",
            "_model_module_version": "1.5.0",
            "_model_name": "IntSliderModel",
            "_view_count": null,
            "_view_module": "@jupyter-widgets/controls",
            "_view_module_version": "1.5.0",
            "_view_name": "IntSliderView",
            "continuous_update": true,
            "description": "numIter",
            "description_tooltip": null,
            "disabled": false,
            "layout": "IPY_MODEL_872a03571dc04c8c9a28af3d97814047",
            "max": 20,
            "min": 0,
            "orientation": "horizontal",
            "readout": true,
            "readout_format": "d",
            "step": 1,
            "style": "IPY_MODEL_d95748d482254fab802f570fceebb39c",
            "value": 0
          }
        },
        "5d785c2228464cf79560c7cf19f7c26e": {
          "model_module": "@jupyter-widgets/output",
          "model_name": "OutputModel",
          "model_module_version": "1.0.0",
          "state": {
            "_dom_classes": [],
            "_model_module": "@jupyter-widgets/output",
            "_model_module_version": "1.0.0",
            "_model_name": "OutputModel",
            "_view_count": null,
            "_view_module": "@jupyter-widgets/output",
            "_view_module_version": "1.0.0",
            "_view_name": "OutputView",
            "layout": "IPY_MODEL_45aaa23447c548d5b3fe6f32a34d5194",
            "msg_id": "",
            "outputs": [
              {
                "output_type": "display_data",
                "data": {
                  "text/plain": "<Figure size 300x300 with 2 Axes>",
                  "image/png": "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\n"
                },
                "metadata": {}
              }
            ]
          }
        },
        "a023c42891bb41678705627b55357de7": {
          "model_module": "@jupyter-widgets/base",
          "model_name": "LayoutModel",
          "model_module_version": "1.2.0",
          "state": {
            "_model_module": "@jupyter-widgets/base",
            "_model_module_version": "1.2.0",
            "_model_name": "LayoutModel",
            "_view_count": null,
            "_view_module": "@jupyter-widgets/base",
            "_view_module_version": "1.2.0",
            "_view_name": "LayoutView",
            "align_content": null,
            "align_items": null,
            "align_self": null,
            "border": null,
            "bottom": null,
            "display": null,
            "flex": null,
            "flex_flow": null,
            "grid_area": null,
            "grid_auto_columns": null,
            "grid_auto_flow": null,
            "grid_auto_rows": null,
            "grid_column": null,
            "grid_gap": null,
            "grid_row": null,
            "grid_template_areas": null,
            "grid_template_columns": null,
            "grid_template_rows": null,
            "height": null,
            "justify_content": null,
            "justify_items": null,
            "left": null,
            "margin": null,
            "max_height": null,
            "max_width": null,
            "min_height": null,
            "min_width": null,
            "object_fit": null,
            "object_position": null,
            "order": null,
            "overflow": null,
            "overflow_x": null,
            "overflow_y": null,
            "padding": null,
            "right": null,
            "top": null,
            "visibility": null,
            "width": null
          }
        },
        "0a6e31d0344548398c6ff59d40f0ac00": {
          "model_module": "@jupyter-widgets/base",
          "model_name": "LayoutModel",
          "model_module_version": "1.2.0",
          "state": {
            "_model_module": "@jupyter-widgets/base",
            "_model_module_version": "1.2.0",
            "_model_name": "LayoutModel",
            "_view_count": null,
            "_view_module": "@jupyter-widgets/base",
            "_view_module_version": "1.2.0",
            "_view_name": "LayoutView",
            "align_content": null,
            "align_items": null,
            "align_self": null,
            "border": null,
            "bottom": null,
            "display": null,
            "flex": null,
            "flex_flow": null,
            "grid_area": null,
            "grid_auto_columns": null,
            "grid_auto_flow": null,
            "grid_auto_rows": null,
            "grid_column": null,
            "grid_gap": null,
            "grid_row": null,
            "grid_template_areas": null,
            "grid_template_columns": null,
            "grid_template_rows": null,
            "height": null,
            "justify_content": null,
            "justify_items": null,
            "left": null,
            "margin": null,
            "max_height": null,
            "max_width": null,
            "min_height": null,
            "min_width": null,
            "object_fit": null,
            "object_position": null,
            "order": null,
            "overflow": null,
            "overflow_x": null,
            "overflow_y": null,
            "padding": null,
            "right": null,
            "top": null,
            "visibility": null,
            "width": null
          }
        },
        "f54d6d44aee34a4a82e7ef148ae0d1c9": {
          "model_module": "@jupyter-widgets/controls",
          "model_name": "ToggleButtonsStyleModel",
          "model_module_version": "1.5.0",
          "state": {
            "_model_module": "@jupyter-widgets/controls",
            "_model_module_version": "1.5.0",
            "_model_name": "ToggleButtonsStyleModel",
            "_view_count": null,
            "_view_module": "@jupyter-widgets/base",
            "_view_module_version": "1.2.0",
            "_view_name": "StyleView",
            "button_width": "",
            "description_width": "",
            "font_weight": ""
          }
        },
        "872a03571dc04c8c9a28af3d97814047": {
          "model_module": "@jupyter-widgets/base",
          "model_name": "LayoutModel",
          "model_module_version": "1.2.0",
          "state": {
            "_model_module": "@jupyter-widgets/base",
            "_model_module_version": "1.2.0",
            "_model_name": "LayoutModel",
            "_view_count": null,
            "_view_module": "@jupyter-widgets/base",
            "_view_module_version": "1.2.0",
            "_view_name": "LayoutView",
            "align_content": null,
            "align_items": null,
            "align_self": null,
            "border": null,
            "bottom": null,
            "display": null,
            "flex": null,
            "flex_flow": null,
            "grid_area": null,
            "grid_auto_columns": null,
            "grid_auto_flow": null,
            "grid_auto_rows": null,
            "grid_column": null,
            "grid_gap": null,
            "grid_row": null,
            "grid_template_areas": null,
            "grid_template_columns": null,
            "grid_template_rows": null,
            "height": null,
            "justify_content": null,
            "justify_items": null,
            "left": null,
            "margin": null,
            "max_height": null,
            "max_width": null,
            "min_height": null,
            "min_width": null,
            "object_fit": null,
            "object_position": null,
            "order": null,
            "overflow": null,
            "overflow_x": null,
            "overflow_y": null,
            "padding": null,
            "right": null,
            "top": null,
            "visibility": null,
            "width": null
          }
        },
        "d95748d482254fab802f570fceebb39c": {
          "model_module": "@jupyter-widgets/controls",
          "model_name": "SliderStyleModel",
          "model_module_version": "1.5.0",
          "state": {
            "_model_module": "@jupyter-widgets/controls",
            "_model_module_version": "1.5.0",
            "_model_name": "SliderStyleModel",
            "_view_count": null,
            "_view_module": "@jupyter-widgets/base",
            "_view_module_version": "1.2.0",
            "_view_name": "StyleView",
            "description_width": "",
            "handle_color": null
          }
        },
        "45aaa23447c548d5b3fe6f32a34d5194": {
          "model_module": "@jupyter-widgets/base",
          "model_name": "LayoutModel",
          "model_module_version": "1.2.0",
          "state": {
            "_model_module": "@jupyter-widgets/base",
            "_model_module_version": "1.2.0",
            "_model_name": "LayoutModel",
            "_view_count": null,
            "_view_module": "@jupyter-widgets/base",
            "_view_module_version": "1.2.0",
            "_view_name": "LayoutView",
            "align_content": null,
            "align_items": null,
            "align_self": null,
            "border": null,
            "bottom": null,
            "display": null,
            "flex": null,
            "flex_flow": null,
            "grid_area": null,
            "grid_auto_columns": null,
            "grid_auto_flow": null,
            "grid_auto_rows": null,
            "grid_column": null,
            "grid_gap": null,
            "grid_row": null,
            "grid_template_areas": null,
            "grid_template_columns": null,
            "grid_template_rows": null,
            "height": null,
            "justify_content": null,
            "justify_items": null,
            "left": null,
            "margin": null,
            "max_height": null,
            "max_width": null,
            "min_height": null,
            "min_width": null,
            "object_fit": null,
            "object_position": null,
            "order": null,
            "overflow": null,
            "overflow_x": null,
            "overflow_y": null,
            "padding": null,
            "right": null,
            "top": null,
            "visibility": null,
            "width": null
          }
        },
        "1ff681988d7246fe89e9a819821a64b7": {
          "model_module": "@jupyter-widgets/controls",
          "model_name": "VBoxModel",
          "model_module_version": "1.5.0",
          "state": {
            "_dom_classes": [
              "widget-interact"
            ],
            "_model_module": "@jupyter-widgets/controls",
            "_model_module_version": "1.5.0",
            "_model_name": "VBoxModel",
            "_view_count": null,
            "_view_module": "@jupyter-widgets/controls",
            "_view_module_version": "1.5.0",
            "_view_name": "VBoxView",
            "box_style": "",
            "children": [
              "IPY_MODEL_8b954506feba49c0a53b6dc46f079385",
              "IPY_MODEL_2a3a55f5fdbd420b923f14285d087e59"
            ],
            "layout": "IPY_MODEL_64422d54d45b457cbcb053482b1ef21a"
          }
        },
        "8b954506feba49c0a53b6dc46f079385": {
          "model_module": "@jupyter-widgets/controls",
          "model_name": "IntSliderModel",
          "model_module_version": "1.5.0",
          "state": {
            "_dom_classes": [],
            "_model_module": "@jupyter-widgets/controls",
            "_model_module_version": "1.5.0",
            "_model_name": "IntSliderModel",
            "_view_count": null,
            "_view_module": "@jupyter-widgets/controls",
            "_view_module_version": "1.5.0",
            "_view_name": "IntSliderView",
            "continuous_update": true,
            "description": "numIter",
            "description_tooltip": null,
            "disabled": false,
            "layout": "IPY_MODEL_7645b336a5ed4dba88c7513944b7b406",
            "max": 20,
            "min": 0,
            "orientation": "horizontal",
            "readout": true,
            "readout_format": "d",
            "step": 1,
            "style": "IPY_MODEL_8d7952a0150748b1a36ff4bcc3041635",
            "value": 0
          }
        },
        "2a3a55f5fdbd420b923f14285d087e59": {
          "model_module": "@jupyter-widgets/output",
          "model_name": "OutputModel",
          "model_module_version": "1.0.0",
          "state": {
            "_dom_classes": [],
            "_model_module": "@jupyter-widgets/output",
            "_model_module_version": "1.0.0",
            "_model_name": "OutputModel",
            "_view_count": null,
            "_view_module": "@jupyter-widgets/output",
            "_view_module_version": "1.0.0",
            "_view_name": "OutputView",
            "layout": "IPY_MODEL_a19cddb52631458cae8153cf12fe64c7",
            "msg_id": "",
            "outputs": [
              {
                "output_type": "stream",
                "name": "stdout",
                "text": [
                  "time= 16.23\n"
                ]
              },
              {
                "output_type": "display_data",
                "data": {
                  "text/plain": "<Figure size 300x300 with 2 Axes>",
                  "image/png": "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\n"
                },
                "metadata": {}
              }
            ]
          }
        },
        "64422d54d45b457cbcb053482b1ef21a": {
          "model_module": "@jupyter-widgets/base",
          "model_name": "LayoutModel",
          "model_module_version": "1.2.0",
          "state": {
            "_model_module": "@jupyter-widgets/base",
            "_model_module_version": "1.2.0",
            "_model_name": "LayoutModel",
            "_view_count": null,
            "_view_module": "@jupyter-widgets/base",
            "_view_module_version": "1.2.0",
            "_view_name": "LayoutView",
            "align_content": null,
            "align_items": null,
            "align_self": null,
            "border": null,
            "bottom": null,
            "display": null,
            "flex": null,
            "flex_flow": null,
            "grid_area": null,
            "grid_auto_columns": null,
            "grid_auto_flow": null,
            "grid_auto_rows": null,
            "grid_column": null,
            "grid_gap": null,
            "grid_row": null,
            "grid_template_areas": null,
            "grid_template_columns": null,
            "grid_template_rows": null,
            "height": null,
            "justify_content": null,
            "justify_items": null,
            "left": null,
            "margin": null,
            "max_height": null,
            "max_width": null,
            "min_height": null,
            "min_width": null,
            "object_fit": null,
            "object_position": null,
            "order": null,
            "overflow": null,
            "overflow_x": null,
            "overflow_y": null,
            "padding": null,
            "right": null,
            "top": null,
            "visibility": null,
            "width": null
          }
        },
        "7645b336a5ed4dba88c7513944b7b406": {
          "model_module": "@jupyter-widgets/base",
          "model_name": "LayoutModel",
          "model_module_version": "1.2.0",
          "state": {
            "_model_module": "@jupyter-widgets/base",
            "_model_module_version": "1.2.0",
            "_model_name": "LayoutModel",
            "_view_count": null,
            "_view_module": "@jupyter-widgets/base",
            "_view_module_version": "1.2.0",
            "_view_name": "LayoutView",
            "align_content": null,
            "align_items": null,
            "align_self": null,
            "border": null,
            "bottom": null,
            "display": null,
            "flex": null,
            "flex_flow": null,
            "grid_area": null,
            "grid_auto_columns": null,
            "grid_auto_flow": null,
            "grid_auto_rows": null,
            "grid_column": null,
            "grid_gap": null,
            "grid_row": null,
            "grid_template_areas": null,
            "grid_template_columns": null,
            "grid_template_rows": null,
            "height": null,
            "justify_content": null,
            "justify_items": null,
            "left": null,
            "margin": null,
            "max_height": null,
            "max_width": null,
            "min_height": null,
            "min_width": null,
            "object_fit": null,
            "object_position": null,
            "order": null,
            "overflow": null,
            "overflow_x": null,
            "overflow_y": null,
            "padding": null,
            "right": null,
            "top": null,
            "visibility": null,
            "width": null
          }
        },
        "8d7952a0150748b1a36ff4bcc3041635": {
          "model_module": "@jupyter-widgets/controls",
          "model_name": "SliderStyleModel",
          "model_module_version": "1.5.0",
          "state": {
            "_model_module": "@jupyter-widgets/controls",
            "_model_module_version": "1.5.0",
            "_model_name": "SliderStyleModel",
            "_view_count": null,
            "_view_module": "@jupyter-widgets/base",
            "_view_module_version": "1.2.0",
            "_view_name": "StyleView",
            "description_width": "",
            "handle_color": null
          }
        },
        "a19cddb52631458cae8153cf12fe64c7": {
          "model_module": "@jupyter-widgets/base",
          "model_name": "LayoutModel",
          "model_module_version": "1.2.0",
          "state": {
            "_model_module": "@jupyter-widgets/base",
            "_model_module_version": "1.2.0",
            "_model_name": "LayoutModel",
            "_view_count": null,
            "_view_module": "@jupyter-widgets/base",
            "_view_module_version": "1.2.0",
            "_view_name": "LayoutView",
            "align_content": null,
            "align_items": null,
            "align_self": null,
            "border": null,
            "bottom": null,
            "display": null,
            "flex": null,
            "flex_flow": null,
            "grid_area": null,
            "grid_auto_columns": null,
            "grid_auto_flow": null,
            "grid_auto_rows": null,
            "grid_column": null,
            "grid_gap": null,
            "grid_row": null,
            "grid_template_areas": null,
            "grid_template_columns": null,
            "grid_template_rows": null,
            "height": null,
            "justify_content": null,
            "justify_items": null,
            "left": null,
            "margin": null,
            "max_height": null,
            "max_width": null,
            "min_height": null,
            "min_width": null,
            "object_fit": null,
            "object_position": null,
            "order": null,
            "overflow": null,
            "overflow_x": null,
            "overflow_y": null,
            "padding": null,
            "right": null,
            "top": null,
            "visibility": null,
            "width": null
          }
        },
        "d05572735c734b1e97a7f5269e56086e": {
          "model_module": "@jupyter-widgets/controls",
          "model_name": "VBoxModel",
          "model_module_version": "1.5.0",
          "state": {
            "_dom_classes": [
              "widget-interact"
            ],
            "_model_module": "@jupyter-widgets/controls",
            "_model_module_version": "1.5.0",
            "_model_name": "VBoxModel",
            "_view_count": null,
            "_view_module": "@jupyter-widgets/controls",
            "_view_module_version": "1.5.0",
            "_view_name": "VBoxView",
            "box_style": "",
            "children": [
              "IPY_MODEL_694a631f1fa843aab5d35e3c5408f367",
              "IPY_MODEL_e570140f3a9244e1a7f042c05f45dbff"
            ],
            "layout": "IPY_MODEL_ebff08c0b0a64756a0d7dcbe2f90be63"
          }
        },
        "694a631f1fa843aab5d35e3c5408f367": {
          "model_module": "@jupyter-widgets/controls",
          "model_name": "IntSliderModel",
          "model_module_version": "1.5.0",
          "state": {
            "_dom_classes": [],
            "_model_module": "@jupyter-widgets/controls",
            "_model_module_version": "1.5.0",
            "_model_name": "IntSliderModel",
            "_view_count": null,
            "_view_module": "@jupyter-widgets/controls",
            "_view_module_version": "1.5.0",
            "_view_name": "IntSliderView",
            "continuous_update": true,
            "description": "numIter",
            "description_tooltip": null,
            "disabled": false,
            "layout": "IPY_MODEL_d57c64c13804468588e7bb89fef40198",
            "max": 20,
            "min": 0,
            "orientation": "horizontal",
            "readout": true,
            "readout_format": "d",
            "step": 1,
            "style": "IPY_MODEL_532f6760ad664852b7856dce04089df0",
            "value": 0
          }
        },
        "e570140f3a9244e1a7f042c05f45dbff": {
          "model_module": "@jupyter-widgets/output",
          "model_name": "OutputModel",
          "model_module_version": "1.0.0",
          "state": {
            "_dom_classes": [],
            "_model_module": "@jupyter-widgets/output",
            "_model_module_version": "1.0.0",
            "_model_name": "OutputModel",
            "_view_count": null,
            "_view_module": "@jupyter-widgets/output",
            "_view_module_version": "1.0.0",
            "_view_name": "OutputView",
            "layout": "IPY_MODEL_79ac191693c34f16a9072420ca8fca69",
            "msg_id": "",
            "outputs": [
              {
                "output_type": "stream",
                "name": "stdout",
                "text": [
                  "time= 0.14\n"
                ]
              },
              {
                "output_type": "display_data",
                "data": {
                  "text/plain": "<Figure size 300x300 with 2 Axes>",
                  "image/png": "iVBORw0KGgoAAAANSUhEUgAAATQAAAEJCAYAAAAaZdvsAAAAOnRFWHRTb2Z0d2FyZQBNYXRwbG90bGliIHZlcnNpb24zLjEwLjAsIGh0dHBzOi8vbWF0cGxvdGxpYi5vcmcvlHJYcgAAAAlwSFlzAAAPYQAAD2EBqD+naQAAT/BJREFUeJztnXlcVFX/xz8wyCabiDDgBriBC6gQNGChQoL5mCS58MMkJDUDU/HRNBfMJdRy38hcSwi11CfNMELBVNxGMVHCDRVlUUNAULaZ+/uDZmJkhrl35gzc8Lxfr/sq7pz7me89987Xc88593P0GIZhQKFQKC0A/eYOgEKhUEhBExqFQmkx0IRGoVBaDDShUSiUFgNNaBQKpcVAExqFQmkx0IRGoVBaDDShUSiUFgNNaBQKpcVAExqFQmkx0IRGobwCbNq0CY6OjjA2Noa3tzfOnz+vsuy1a9cQEhICR0dH6OnpYe3atRppVlZWIioqCm3btoWZmRlCQkJQVFRE8rQaQBMahdLC2bt3L2JiYhAbG4tLly7B3d0dgYGBePTokdLyz58/h7OzM5YvXw6hUKix5owZM3D48GHs378f6enpyM/Px8iRI3VyjnIYCoXSovHy8mKioqLkf0skEsbBwYGJi4tTe2znzp2ZNWvWcNYsKSlhWrVqxezfv19eJjs7mwHAZGRkaHE2jUNbaBRKC6a6uhpisRgBAQHyffr6+ggICEBGRobONMViMWpqahTKuLi4oFOnThp/LxsMdKZMoVBYU1lZierqatblGYaBnp6ewj4jIyMYGRkp7Hvy5AkkEgns7OwU9tvZ2eHPP//UKFY2moWFhTA0NISVlVWDMoWFhRp9LxtoC60F8sEHH8DR0VFhn56eHhYtWiT/e9euXdDT08Pdu3ebNDZKQyorK9HOxASWlpastw4dOjTYFxcX19yn0uzQFhqPWLRoET7//HM8fvwYNjY2DT7v3bs3bGxskJaWhvz8fGzduhXBwcHo27cvke/fvHkzTE1N8cEHHxDRo7Cjuroa5QDmAjBmUb4SQFx5OfLy8mBhYSHf/3LrDABsbGwgEAgajC4WFRWp7PBXBxtNoVCI6upqlJSUKLTStPleNtAW2r+U/Px8fP7558jMzGzw2TfffIOcnJxGj3///ffx4sULdO7cWb5v8+bN2LVrF+FIKWwx47ABgIWFhcKmLKEZGhrCw8MDqamp8n1SqRSpqakQiUQaxclG08PDA61atVIok5OTg/v372v8vWygLbQWSKtWrdSWEQgEEAgETRANhS0GANRfOaCWo25MTAzCw8Ph6ekJLy8vrF27FhUVFYiIiAAAjB8/Hu3bt5c/slZXV+P69evy/3/48CEyMzNhZmaGrl27stK0tLREZGQkYmJiYG1tDQsLC0ydOhUikQivv/46xzPggM7GTymciY2NZQAwjx8/Vvp5r169GD8/P+bEiRMMgAbbzp07GYZhmPDwcKZz584KxwJgYmNj5X/v3LmTAcDk5uYyDFM3PP+ynp+fH3P79m0GALN69eoG8Zw+fZoBwCQmJpI4/VeW0tJSBgCzCmA2s9hW/X19SktLWX/Hhg0bmE6dOjGGhoaMl5cXc/bsWflnfn5+THh4uPzv3NxcpfeXn58fa02GYZgXL14wH3/8MdOmTRvG1NSUeffdd5mCggKN6ogttIX2L8TV1RWLFy/GwoULMWnSJLzxxhsAAB8fH401165di6lTp8LMzAzz5s0DUDci5ezsDF9fXyQkJGDGjBkKxyQkJMDc3BwjRozQ/GQoclpBNy00AIiOjkZ0dLTSz9LS0hT+dnR0BMNi7aTGNAHA2NgYmzZtwqZNmzjFqg20D+1fiJ2dHYYOHQoAEIlEGDduHMaNGwdnZ2eNNYODg2FpaQk7Ozu53ltvvQWg7pFELBYrDPPX1NRg3759GDlyJExNTbU7IQqAukdOthtFOTShUdQyevRoGBsbIyEhQb7v2LFjePLkCcaNG9eMkbUsZH1o6jaa0FRDE9q/jJcnUzYFVlZWGD58OBITE+X7EhIS0L59ewwePLjJ42mp0Baa9tCExiOMjetmIb148ULp58+fP5eXaWrGjx+PO3fu4MyZM3j27Bl++uknhIaGQl+f3kKkMOWwUZRD70YeIZsTpmwO2fPnz5GXlycvo4uWWmOaQUFBaNeuHRISEnDw4EE8f/4c77//PvEYXmVoC017aELjEf7+/jA0NMSWLVsglUoVPtu6dStqa2vlgwGtW7cGAJSUlBD7/tatW6vUMzAwQGhoKPbt24ddu3ahT58+cHNzI/bdFNqHRgJaNzzC1tYWCxcuxPz58/Hmm2/inXfegampKc6cOYPvv/8eQ4YMwfDhwwEAXbp0gZWVFeLj42Fubo7WrVvD29sbTk5OGn+/h4cHtmzZgqVLl6Jr166wtbVV6CMbP3481q9fjxMnTmDFihVany9FEbatL/qjVQ2tG54xb948ODo6YuPGjVi8eDFqa2vh5OSEzz//HJ9++qm8z6pVq1bYvXs35s6di48++gi1tbXYuXOnVglt4cKFuHfvHlauXIlnz57Bz89PIaF5eHigV69eyM7ORlhYmNbnSlGE7Tw0NmVeVfQYNjPoKJS/6devH6ytrRXe0aNoR1lZGSwtLZEKoDWL8hUA/AGUlpYqvJxOoS00CgcuXryIzMxM+gK7jmD7Lif90aqG1g1FLVlZWRCLxVi1ahXs7e0xZsyY5g6pRUL70LSHjnJS1PLDDz8gIiICNTU1+P7775ttLlxLh80IJ9t+tlcV2odGoTQzsj60PwCYsyj/DIAbaB+aMmjrlULhCXSUU3toQqNQeALtQ9OeJq8bqVSK/Px8mJubN8uL1hRKU8AwDJ49ewYHBwfW77saCIBWLH4SBgwAiXbxtVSaLKHJjN6qq6tx+/btpvpaCqVZycvLQ4cOHViVNTAADGhC04omHxQoLS2FlZUVNudtwnOLCo112sIGIxGCA/gRf+GJVjGR0uJjTCS1aEzsMS1rjY87RqGkpASWlpaNlpUNChSaAhYsEloZAwif00EBZTT5I6fsMfO5RQVKLJ5qrGMCE1jAAs9RgRJorkNSi48xkdSiMXGHS7cKpxYaRzZt2oQvv/wShYWFcHd3x4YNG+Dl5aWy/P79+7FgwQLcvXsX3bp1w4oVK/D222/LP1d1XitXrsSsWbMA1Fl537t3T+HzuLg4zJkzh/sJsITOQ6NQeEIrAdDKgMXGcbGuvXv3IiYmBrGxsbh06RLc3d0RGBiIR48eKS1/5swZhIaGIjIyEpcvX0ZwcDCCg4ORlZUlL1NQUKCw7dixA3p6eggJCVHQWrx4sUK5qVOncq4XLrSohHbr6C1c3CSGpJrfHQzV5dX4felpFIgLeKXFN1ryuSlFwGHjwOrVqzFx4kRERESgZ8+eiI+Ph6mpKXbs2KG0/Lp16xAUFIRZs2bB1dUVS5YsQf/+/bFx40Z5GaFQqLD973//w6BBgxqsa2Fubq5QTmZ7pSs4J7Rnz55h+vTp6Ny5M0xMTODj44MLFy5o9OVPsp9gqX4c9gR8r7CfkTLY3D0eK8y+woti5e6tyqh49BzJ0b9ic/evcXn7FUhrpeoPaoQbh29iqV4clurH4dFV5f+acaHmRQ0yvjqHjU6bkb7gJKqeVTe5Fsk6J339ZJCqJ5LXj/S9oBRjDhvq+t7qb1VVVQ0kq6urIRaLERAQIN+nr6+PgIAAZGRkKA0jIyNDoTwABAYGqixfVFSEn3/+GZGRkQ0+W758Odq2bYt+/frhyy+/RG2tJmtWsYdzQvvwww+RkpKC7777DlevXsWQIUMQEBCAhw8fcv5yG1cb9Ajujrupd/HwfL58//X92Si++RT9J/eDibUJa70e73aH7zwfvPjrBX7+8Ci2uG5FVuI1MFLNxj3OxGUAegAY4HSc8ovJBkm1BBc3ibGpSzxSZx0HAPh/ORgdXm/f5Fok65z09SNZTwC560daSyUcLWs7duwIS0tL+SZbKLg+T548gUQigZ2dncJ+Ozs7FBYWKg2jsLCQU/ndu3fD3NwcI0eOVNj/ySefICkpCSdOnMDkyZPxxRdfYPbs2Y3XgZZwSmgvXrzAjz/+iJUrV+LNN99E165dsWjRInTt2hVbtmzRKADfz+rWkjz9xRn5vjNxGRAYCfD6TNWdlsowtjTGoKV+iLozBd4xXnj24BkOhf2ErW7b8DS3hJPW3RP38CDjIXqH9UIH3w64vi8bxbe5dxTnXyzA5u5fIzn6V9S+qIXfkjcRnfsxRP/1hoExtzEZUlok65yUFsl6AshdP9JajaIPdo+bf/9q8/LyUFpaKt/mzp1LPiYW7NixA2FhYQ3e8Y2JicHAgQPh5uaGjz76CKtWrcKGDRuUtiRJwSmh1dbWQiKRNAjcxMQEp06dUnpMVVVVg6ZxfRw87eH0liNu/HQTj689xs2fb6HoyiO4hfeBuQObN9sa0rqdKd5a5Y/J1yfCopMFHl97gtJ7pZw0TsedAfQA3zki+M4VgZEwyFh5lnMsj7Meo/ReKYT97PDxrcl4Y74vDM0MOeuQ1CJZ56S0SNYTQO76kdZqFI4tNAsLC4XNyMiogaSNjQ0EAgGKiooU9hcVFUEoFCoNQygUsi7/+++/IycnBx9++KHa0/P29kZtbS3u3r2rtqymcEpo5ubmEIlEWLJkCfLz8yGRSLBnzx5kZGSgoEB5x21cXJxCs7hjx44NyvjO9alryi/PwOm4DOgJ9CCa/bpmZwRAUiPBpa2X8Z1fAsrul8G4jTFat2O/Vk7+xQLkptxF93e6oV2vdug2rCvs3G3xx+6reJb/jFMsFh0tYGBigMLLRfj2jT24vj+b1arUutYiWecktEieG8nrR1JLLTpYJcXQ0BAeHh4KhpxSqRSpqakQiURKjxGJRA0MPFNSUpSW3759Ozw8PODu7q42lszMTOjr68PW1pb9CXCEcx/ad999B4Zh0L59exgZGWH9+vWNLmc2d+5chWZxXl5egzKOgzqj/esOyEq4hgenH6DnaFdYd2nD+WSkEimu7P4DW1y24ujkZFQ+rYTvPB9E35mCdr3asdaRPT7JHqcAwGeuCJIqCc6uOs8pJid/R0TdngKPj/vj6e0SHBh9CNv67cCNn25y0iGtRarOSWmRPDeS14+kllp0NMoZExODb775Brt370Z2djamTJmCiooKREREAKhbK6L+4+q0adOQnJyMVatW4c8//8SiRYtw8eJFREdHK+iWlZVh//79SltnGRkZWLt2La5cuYI7d+4gISEBM2bMwLhx49CmjWb3GRs4J7QuXbogPT0d5eXlyMvLw/nz51FTU9NguFaGkZFRg6axMnw/q/tXHnqA71zl/3KoIyvhGg5/8DPKC8rx+kwvROdOwaClfjC2Yu/f9ST7CXIO3YCjvyPaeznI9/cc5Qrrbm1weWsm55E7c3szDN0UiCk3JsN9ghseX3uCfSN+wL2T9znpkNYiUecktUicG8nrp4t7oVF0tI7dmDFj8NVXX2HhwoXo27cvMjMzkZycLO/4v3//vsITlo+PDxITE7F161a4u7vjhx9+wKFDh9C7d28F3aSkJDAMg9DQ0AbfaWRkhKSkJPj5+aFXr15YtmwZZsyYga1bt3ILniMavynQunVrtG7dGk+fPsWxY8ewcuVKrQLpPrwb5jPadWrqt9KHx8f9MWC+L8ztzTTSsHG1wXxpwzj09PXw8Y2PtIrPqrMlhm8fBt85IqTH/q7Vy/kktEjUuS60tDk3ktdPl/eCUgTQ2bs70dHRDVpYMtLS0hrsGzVqFEaNGtWo5qRJkzBp0iSln/Xv3x9nz+qgn1ENnKvv2LFjYBgGPXr0wK1btzBr1iy4uLjIm6/NSe/QXugd2qu5w1CLdTdrvJs4gndafKMln5tS2D5OUktWlXBOaLLh4QcPHsDa2hohISFYtmwZWrWitnMUilYYg90vUrdzU//VcE5oo0ePxujRo3URC4XyaqNB/xhFEVp9FApfkE2sVYd2b/S1aGhCo1D4AtsWGu1DU0mzJbS2sIEJ2L/n9zI2aKfwX20gpcXHmEhq0ZjYY8pqDfSXoAlNa5rMsVZmwS2RSHDjxg3qtklp0chcaNnc5/KywYAFi7G1shrA8hB1rFVGk7XQoqKiEBUVJb94B/AjnkNzC24btMNojME+7MUTPNYqNlJafIyJpBaNiT20hdY8NNsj5194QsTm+AkeowD56gs2oRYfYyKpRWNSjxU0eL2H7cRaOiigEjooQKHwBbYTazm+y/kqweldTolEggULFsDJyQkmJibo0qULlixZorErAmnHU1IW3CStvPmmpSuX2fqQss7WVEfXVuw6swbX0bucrxKcEtqKFSuwZcsWbNy4EdnZ2VixYgVWrlyJDRs2aPTlpB1PSVlwk7Ty5psW6TqvDynrbG11SFuxk4pLLRwtuCkN4ZTQzpw5gxEjRmDYsGFwdHTEe++9hyFDhuD8ec1tVEi6p5Ky4CZp5c1HLZJ1DpCzzialQ9qKnbQ1uEo4OtZSGsKpanx8fJCamoobN24AAK5cuYJTp05h6NChGgdA0j2VlAU3SStvPmqRrHNS1tkkLbhJ1jlpa/BGoY+cWsOpaubMmYOysjK4uLhAIBBAIpFg2bJlCAsLU3lMVVWVgof4yxbcQJ3jaW7KXZxenoGS3FKtHWtlFtye0R74bmCC3IK7jZNVs+jwUYtUnde3zv6/lLEwbcveGVgXOvUhUU+6iEslbJMVv1dpbFY4tdD27duHhIQEJCYm4tKlS9i9eze++uor7N69W+UxbCy4SbqnAtpbcJPW4aMWqTonZZ1N0oJbBol60kVcKtGRY+2rBKcW2qxZszBnzhyMHTsWANCnTx/cu3cPcXFxCA8PV3rM3LlzERMTI/+7rKxM+boCn/lg3zs/aOV4KpVIcXVPFn5ffBold0pgaGYI33k+EP3Xm5NrLSkdPmsBZOpcZp19aulpZG67ggOjD8HO3RZ+i99E93e6NbkOQLaeSMalFtpC0xpOCe358+cN1g4QCASQSlWPIhkZGSldjeZlSDieyiy4DUwM8PpML/jMEcHUhnsriJQOn7UAci6zMuts0ezX8fviU7j6bRb2jfgB76eHofObnZpch3Q9kYpLLWwn1lI/NJVweuQcPnw4li1bhp9//hl3797FwYMHsXr1arz77ru6io8TMgvuqNtTEPCVv8Y3MSkdPmvpApl19kfXJ6JXaE+NLca11dFVPZE6P5XocFBg06ZNcHR0hLGxMby9vdXOTNi/fz9cXFxgbGyMPn364OjRowqff/DBB9DT01PYgoKCFMoUFxcjLCwMFhYWsLKyQmRkJMrLy7kHzwFOVbNhwwYsWLAAH3/8MR49egQHBwdMnjwZCxcu1FV8nCBlwU3SypuvWrqElHW2pjq6riedWYPr6E2BvXv3IiYmBvHx8fD29sbatWsRGBiInJwcpUvKnTlzBqGhoYiLi8N//vMfJCYmIjg4GJcuXVJYKCUoKAg7d+6U//3yk1hYWBgKCgqQkpKCmpoaREREYNKkSUhMTOR2AhzgvC7n2rVrce/ePbx48QK3b9/G0qVLYWio+YKwFArlb3Q0sXb16tWYOHEiIiIi0LNnT8THx8PU1BQ7duxQWn7dunUICgrCrFmz4OrqiiVLlqB///7YuHGjQjkjIyMIhUL5Vn95uuzsbCQnJ2Pbtm3w9vbGgAEDsGHDBiQlJSE/n8w7t8qgU/QoFL7AcWJtWVmZwlZ/epSM6upqiMViBAQE/PM1+voICAhARkaG0jAyMjIUygNAYGBgg/JpaWmwtbVFjx49MGXKFPz1118KGlZWVvD09JTvCwgIgL6+Ps6dO8eyQrhDExqFwhc49qF17NhRYUpUXFxcA8knT55AIpHI1+CUYWdnh8LCQqVhFBYWqi0fFBSEb7/9FqmpqVixYgXS09MxdOhQSCQSucbLj7MGBgawtrZW+b0koI61BLX4GBNJLRoTe3Tqh/Z3mby8PAWDRzazCUghm7oF1E3fcnNzQ5cuXZCWlgZ/f/8mi+Nlmiyh1XesBYCRCIEFtHfbHI0xWmuQ1uJjTCS1aEzqKUMZIjCB20EcBwUsLCzUOtba2NhAIBCgqKhIYX9RURGEQqHSY4RCIafyAODs7AwbGxvcunUL/v7+EAqFePTokUKZ2tpaFBcXN6qjLdSxlqAWH2MiqUVjYk9TtNDYYGhoCA8PD6SmpiI4OBgAIJVKkZqaqnIldZFIhNTUVEyfPl2+LyUlBSKR6snXDx48wF9//QV7e3u5RklJCcRiMTw8PAAAx48fh1Qqhbe3N/sT4Ah1rNWBFh9jIqlFY1KPTh1rOU7biImJQXh4ODw9PeHl5YW1a9eioqICERERAIDx48ejffv28j64adOmwc/PD6tWrcKwYcOQlJSEixcvYuvWrQCA8vJyfP755wgJCYFQKMTt27cxe/ZsdO3aFYGBgQAAV1dXBAUFYeLEiYiPj0dNTQ2io6MxduxYODg4cDsBDtD39ikUvqCDFhoAjBkzBo8fP8bChQtRWFiIvn37Ijk5Wd7xf//+fYU3gHx8fJCYmIj58+fjs88+Q7du3XDo0CH5HDSBQIA//vgDu3fvRklJCRwcHDBkyBAsWbJEoR8vISEB0dHR8Pf3h76+PkJCQrB+/XpuwXOkxSe06vJqnFt7AV2HOsPew77JdW4dvYWS3FL0m9gXAkPt3iompcXHmHQNqftAp+jQgjs6OlrlI2ZaWlqDfaNGjcKoUaOUljcxMcGxY8fUfqe1tbVOJ9Eqg9O0DUdHxwavO+jp6SEqKkqjL9elHXRLdE9tqY68fL0PmsKuXAHqWKs1nBLahQsXUFBQIN9SUlIAQGUmV4cu7KBbsntqS3Xk5et9oEu7cqVQx1qt4VQ17dq1U3jV4ciRI+jSpQv8/Pw0DoCkHXRLd09tyY68fLwPSMelFupYqzUaV011dTX27NmDmJiYRl0H1DnWvmwHXXK3FEVXHqHfpL6c7aBbunsqaS0+xcTH+4B0XGrR0aDAq4TGjddDhw6hpKQEH3zwQaPl2DjW+s71ARjg9PIMnI7L0NgOuqW7p5LW4ltMfLsPSMelFupYqzUa5/rt27dj6NChaueUsHGsrW8HDQboFdpTIzvolu6e2tIdefl2H5COSy20haY1GrXQ7t27h99++w0ffvih2rJGRkbyVzQae1XD97O6fwW1sYMG/nEXnXJjMtwnuOHxtSfYN+IH3Dt5v1l0ZO6p5QXleH2mF6Jzp2DQUj+NLLNJafExJhl8uw9Ix9Uosom16jbaQlOJRrl+586dsLW1xbBhw4gFQsoOWobMXdR3jgjpsb9r7Z6qqY7MPXXAfF+Y25tpFANpLT7GJIOv9wHpuJRCW2haw7lqpFIpdu7cifDwcBgY8L9mW5J7akt35NUlOnOZJYkOJ9a+KnDOSL/99hvu37+PCRM4OglQKJTGMQK7SbM1ug7k3wvnhDZkyBDdrUtIobzK0Baa1vD/mZFCeVWgfWhaQ6uGQuELNKFpDbXgJqjFx5hIatGY2MMXg8dXDT2miTrE6ltw37hxA6WlpWrtgymUfysyZ2Y297msbEkuwOYnUVYGWDmB/oaUQC24CWrxMSaSWjQm9mjSQpMY1G1sylGUQy24daDFx5hIatGY1KOJBTdNaNpDq4ZC4Qm1Aj3UCtS/yVArYFD3HhblZXhpFVddXo3fl55GgbiA03G3jt7CxU1iSKolOoqMOyRj4uP56RJN7wNdo6u4JAYGrDeubNq0CY6OjjA2Noa3tzfOnz/faPn9+/fDxcUFxsbG6NOnD44ePSr/rKamBp9++in69OmD1q1bw8HBAePHj0d+vmKrVpnD9fLlyznHzgXOCe3hw4cYN24c2rZtCxMTE/Tp0wcXL14kEgyf7K4B4Mbhm1iqF4el+nF4dPWR+gN0HBOf7a5J1JUMUvbpJGMiGZdKfYEhqllsNQJDTrp79+5FTEwMYmNjcenSJbi7uyMwMLDBupkyzpw5g9DQUERGRuLy5csIDg5GcHAwsrKyAADPnz/HpUuXsGDBAly6dAkHDhxATk4O3nnnnQZaixcvVnC5njp1KveK4QCnhPb06VP4+vqiVatW+OWXX3D9+nWsWrUKbdpoZ6XCR7troM6ZFHqo88KKy9BI41WwuwbI1BWp+4BkTLqISxW1ELDeuLB69WpMnDgRERER6NmzJ+Lj42FqaoodO3YoLb9u3ToEBQVh1qxZcHV1xZIlS9C/f39s3LgRAGBpaYmUlBSMHj0aPXr0wOuvv46NGzdCLBbj/n1FNxNzc3MFl+vWrTWYzsIBTgltxYoV6NixI3bu3AkvLy84OTlhyJAh6NKli8YB8NXu+u6Je3iQ8RC9w3qhg28HXN+XjeLb3AcxWrrdNUCmrkjeB6Ri0kVcjSGBABIYsNjqElpZWZnCVt8ZWkZ1dTXEYjECAgLk+/T19REQEICMDOVJPiMjQ6E8AAQGBqosD9RNIdHT04OVlZXC/uXLl6Nt27bo168fvvzyS9TW1rKtDo3glNB++ukneHp6YtSoUbC1tUW/fv3wzTffNHpMVVVVg4qvT3275I9vTcYb831haMatSf0yMjvoydcnwqKThdwOmgun487UeV/NEcF3rgiMhEHGyrPNGhMprZdtpW/+fAtFVx7BLbyPRrbSJOqK9H1A6vrp4v5URV1CY7cBQMeOHRXcoGULBdfnyZMnkEgk8jU4ZdjZ2aGwsFBpHIWFhZzKV1ZW4tNPP0VoaKjCvLhPPvkESUlJOHHiBCZPnowvvvgCs2fP5lQnXOGU0O7cuYMtW7agW7duOHbsGKZMmYJPPvkEu3fvVnmMOgtuPtpd518sQG7KXXR/pxva9WqHbsO6ws7dFn/svopn+c+aJSbSWqRspUnVFcn7gOT108X9qQquCS0vLw+lpaXybe5cHfu1KaGmpgajR48GwzDYsmWLwmcxMTEYOHAg3Nzc8NFHH2HVqlXYsGGD0pYkKTglNKlUiv79++OLL75Av379MGnSJPlS76qYO3euQqXn5eUpfC6zS/b4uD+e3i7BgdGHsK3fDtz46Sbnk5FKpLiy+w9scdmKo5OTUfm0Er7zfBB9Zwra9WL/OovsUUz2aAYAPnNFkFRJcHZV46NDuoqJtFZ9W+kHpx+g52hXjWylSdUVyfuA5PUjGZc6uCa0l52g669aLsPGxgYCgQBFRUUK+4uKiiAUCpXGIRQKWZWXJbN79+4hJSVF7VsL3t7eqK2txd27d9VVhcZwSmj29vbo2bOnwj5XV9cGHYH1YWPBzSe76yfZT5Bz6AYc/R3R3uuf9RJ6jnKFdbc2uLw1k9MoYEu2uyZdVyTuA9IxkYqLDRKWAwKyhMYGQ0NDeHh4IDU1Vb5PKpUiNTUVIpHyay4SiRTKA0BKSopCeVkyu3nzJn777Te0bdtWbSyZmZnQ19eHra0t6/i5wqlX09fXFzk5OQr7bty4gc6dOxMJhg921zauNpgvbdh019PXw8c3PuKs15LtrknXlQxt7gNdxaRtXGyo6/BX38aQgNt0nZiYGISHh8PT0xNeXl5Yu3YtKioqEBERAQAYP3482rdvL++DmzZtGvz8/LBq1SoMGzYMSUlJuHjxIrZu3QqgLpm99957uHTpEo4cOQKJRCLvX7O2toahoSEyMjJw7tw5DBo0CObm5sjIyMCMGTMwbtw4rWdFNAanhDZjxgz4+Pjgiy++wOjRo3H+/Hls3bpVfqKk4IPdNSleRbtrUvDVNltXcUmgz6r1xXVa9ZgxY/D48WMsXLgQhYWF6Nu3L5KTk+Ud//fv34e+/j+J1MfHB4mJiZg/fz4+++wzdOvWDYcOHULv3r0B1M1F/emnnwAAffv2VfiuEydOYODAgTAyMkJSUhIWLVqEqqoqODk5YcaMGQorwOkCTgnttddew8GDBzF37lwsXrwYTk5OWLt2LcLCwnQVH4XyylAFQ7RikdCqOKc0IDo6GtHR0Uo/S0tLa7Bv1KhRGDVqlNLyjo6OagdG+vfvj7NnNZ8VoCmcJ9L85z//wX/+8x9dxEKhvNJI680xa7wc2UfdlgR9OZ1C4QkSlh3+r8abvJpBHWsJavExJpJaNCb2aOSHRhOa1lDHWgpFB2jiWHu49DW0tlDfxqgoq8Vwywv0N6QE6lhLUIuPMZHUojGxR5MWGtsXz2upF5pKqGOtDrT4GBNJLRqTejRyrP375XP15SiqoIMCFApPkLLsQ5PSFppKeOlYy0f46p6qCbp2vm1JddWUcH2Xk9IQTglt0aJFDSx1XVxciARC0l2UL+6pJN1hSWqRdvaVoWld8dVFV1dxqaIKhqiCEYtNN/ZFLQHOLbRevXopWOqeOnWKSCCk3EVJaZFwKSXpDktSi7Szr7Z1xVcXXV3FpQraQtMezgnNwMBAwVLXxsZG6yBIuYuS0iLpUkrSHZaUFkkXXVJ1xUcXXV3E1Rg0oWkP54R28+ZNODg4wNnZGWFhYY1aB7GFpDss39xTSbrDknaaJeGiS6qu+Oiiq4u4GkMX9kGvGpwSmre3N3bt2oXk5GRs2bIFubm5eOONN/DsmWoXUHUW3CTdRfnongqQc4clrUXC+ZZkXfHNRZd0XOpgt54Au6kdryqcEtrQoUMxatQouLm5ITAwEEePHkVJSQn27dun8hh1Ftwk3UX56J4KkHOHJaVF0vmWZF3xzUWXdFzqkNkHqd/o5ARVaFUzVlZW6N69O27duqWyTGMW3CTdRfnonlofbd1hSWqRdr4lWVd8c9ElFRcbaB+a9mjVdi0vL8ft27fx/vvvqyxjZGSk1OscIOsuykf31Ppo6w5LUou0860MEnXFVxddktdPFexfTqcJTRWcEtp///tfDB8+HJ07d0Z+fj5iY2MhEAgQGhqqq/h4A1/dUzVB1863LamumhLZoACbchTlcHrkfPDgAUJDQ9GjRw+MHj0abdu2xdmzZ9GunfZ2KxTKq041jFhvXNm0aRMcHR1hbGwMb29vnD/feF/i/v374eLiAmNjY/Tp0wdHjx5V+JxhGCxcuBD29vYwMTFBQEAAbt5U7DctLi5GWFgYLCwsYGVlhcjISJSXl3OOnQucElpSUhLy8/NRVVWFBw8eICkpSatV0ykUyj/oalBg7969iImJQWxsLC5dugR3d3cEBgbi0SPlb0+cOXMGoaGhiIyMxOXLlxEcHIzg4GBkZWXJy6xcuRLr169HfHw8zp07h9atWyMwMBCVlZXyMmFhYbh27RpSUlJw5MgRnDx5EpMmTdKsclhCh0soFJ7AZg4aW4uh+qxevRoTJ05EREQEevbsifj4eJiammLHjh1Ky69btw5BQUGYNWsWXF1dsWTJEvTv3x8bN24EUNc6W7t2LebPn48RI0bAzc0N3377LfLz83Ho0CEAQHZ2NpKTk7Ft2zZ4e3tjwIAB2LBhg7xRpCtoQqNQeIIu5qFVV1dDLBYjICBAvk9fXx8BAQHIyFD+OlhGRoZCeQAIDAyUl8/NzUVhYaFCGUtLS3h7e8vLZGRkwMrKCp6envIyAQEB0NfXx7lz51jHzxVqwU1Qi48xkdSiMbFHE4NH9vZBdWVenqSubEbBkydPIJFI5EvWybCzs8Off/6pVL+wsFBpednam7L/qivz8oLCBgYGsLa2lpfRBU2W0OpbcAPASITAAtrbB4/GGK01SGvxMSaSWjQm9ZShDBGYwOkYrtM2Xp6kHhsbi0WLFnH6zpYGteAmqMXHmEhq0ZjYo9kiKWwXGq7rKcrLy1NYU0DZfE8bGxsIBAIUFRUp7C8qKoJQKFSqLxQKGy0v+29RURHs7e0VysgWHhYKhQ0GHWpra1FcXKzye0lALbh1oMXHmEhq0ZjUo4kFdy0EELBaU6CujIWFhdpFUgwNDeHh4YHU1FQEBwcDAKRSKVJTU1UuPCwSiZCamorp06fL96WkpEAkqntDwsnJCUKhEKmpqfIEVlZWhnPnzmHKlClyjZKSEojFYnh4eAAAjh8/DqlUCm9vb7XnqCn0LVcKhSewX1OA2882JiYG4eHh8PT0hJeXF9auXYuKigpEREQAAMaPH4/27dsjLi4OADBt2jT4+flh1apVGDZsGJKSknDx4kVs3boVAKCnp4fp06dj6dKl6NatG5ycnLBgwQI4ODjIk6arqyuCgoIwceJExMfHo6amBtHR0Rg7diwcHByUxkmCZk9ot47eQkluKfpN7AuBIT9mQJOMSdfnV11ejXNrL6DrUGfYe9irP4AwLf36NSVcBwXYMmbMGDx+/BgLFy5EYWEh+vbti+TkZHmn/v3796Gv/8+EBx8fHyQmJmL+/Pn47LPP0K1bNxw6dAi9e/eWl5k9ezYqKiowadIklJSUYMCAAUhOToax8T/vAyckJCA6Ohr+/v7Q19dHSEgI1q9fzyl2rmg1bWP58uXybK0purCD1tZ6mWRMLd3umsT58TGmlyFp666KOgtudhtXoqOjce/ePVRVVeHcuXMKj31paWnYtWuXQvlRo0YhJycHVVVVyMrKwttvv63wuZ6eHhYvXozCwkJUVlbit99+Q/fu3RXKWFtbIzExEc+ePUNpaSl27NgBMzNy7w4rQ+OEduHCBXz99ddwc3PTKgDSdtCA9tbLJGNq6XbXJM6PjzG9DEmLeFXUjXKymYf272l1NjUaJbTy8nKEhYXhm2++QZs22vlCkbSDBshYL5OMqaXbXZM6Pz7GJIOkRXxjUPsg7dEooUVFRWHYsGENZhMrQ51jrQwSdtAAWTtvUjGR0uKr3TWg/fnxMSYZJO+pxqAJTXs4J7SkpCRcunRJPiKiDnWOtTJI2EGTtl4mERNJLT7aXcsgcX58jIn0PdUYUpbJjOugwKsEp1HOvLw8TJs2DSkpKQqjGY0xd+5cxMTEyP8uKytTSGpSiRRX92Th98WnUXKnBIZmhvCd5wPRf705O6iqsl4+OPZ/OLvqPN5a5c9Kh2RMJLVkdtenlp5G5rYrODD6EOzcbeG3+E10f6cbJ636ttJggF6hPTWylSZ5fnyMidQ9xYZaCKDHYR4apSGcWmhisRiPHj1C//79YWBgAAMDA6Snp2P9+vUwMDCQv9ZUHyMjI/kEQGUTAUnZQZO0XiZpUd2S7a4B8ufHp5h0ZeetCjoooD2cWmj+/v64evWqwr6IiAi4uLjg008/hUDAvaJJ2UGTtF4maVHdku2uAfLnx6eYdGXnrQoJBNCnjrVawSmhmZubK0yuA4DWrVujbdu2DfazRdd20JpAMqaWbnfd0q9fU0ITmvY0+5sCFAqljmoYQcrCXrsWDbt2KHVondDS0tIIhEGhUCQsBwVoC001tIVGofAECfRZJjRqNK0KmtAoFJ5QNx2DTtvQBmrBTVCLjzGR1KIxsUczg0cD6OnAPuhVQo/RdKo5R+pbcN+4cQOlpaVqzekolH8rMmdmNve5rKxH6VEILNQnQklZBcSWb9PfkBKoBTdBLT7GRFKLxsQezVpo7B456aCAaqgFtw60+BgTSS0ak3o0seCmCU176MM4hcITaqEPho5yagWnmtmyZQvc3Nzk72SKRCL88ssvWgVw6+gtXNwkhqSaP5MF+RjTq0h1eTV+X3oaBeICTseRvH5NeS9Uw4j1RlEOp4TWoUMHLF++HGKxGBcvXsTgwYMxYsQIXLt2TeMA+GiXzMeYSNtUk4hJV1qa2ovL+DdYqCuDD/ZBxcXFCAsLg4WFBaysrBAZGYny8vJGj6msrERUVBTatm0LMzMzhISEKCyDd+XKFYSGhqJjx44wMTGBq6sr1q1bp6CRlpYGPT29BhvXRYk5JbThw4fj7bffRrdu3dC9e3csW7YMZmZmOHtWc7M7Ptol8zEm0jbVJGIiraWtvbgMPluoN0YtBKw3XREWFoZr164hJSUFR44cwcmTJzFp0qRGj5kxYwYOHz6M/fv3Iz09Hfn5+Rg5cqT8c7FYDFtbW+zZswfXrl3DvHnzMHfuXGzcuLGBVk5ODgoKCuTby6uvq0Pjh3GJRIKkpCRUVFTI1+vTBD7aJfMxJoCsTTVJW2kSWqTsxQH+Wqiro7ntg7Kzs5GcnIxt27bB29sbAwYMwIYNG5CUlIT8fOWDJKWlpdi+fTtWr16NwYMHw8PDAzt37sSZM2fkDZ0JEyZg3bp18PPzg7OzM8aNG4eIiAgcOHCggZ6trS2EQqF8q78aFRs4J7SrV6/CzMwMRkZG+Oijj3Dw4EH07NlTZXlqwU0uJpI21STriYQWKXvx+vDNQl0dzW3BnZGRASsrK3h6esr3BQQEQF9fH+fOnVN6jFgsRk1NjYIdv4uLCzp16oSMDNUt9dLSUlhbWzfY37dvX9jb2+Ott97C6dOnOZ8D54TWo0cPZGZmyldJDg8Px/Xr11WWf9UtuEnHRMKmmmRMpLRI2ovL4JuFutrv4JjQXm4oVFVVafX9hYWFDR7xDAwMYG1trbIvq7CwEIaGhrCyslLYb2dnp/KYM2fOYO/evQqPsvb29oiPj8ePP/6IH3/8ER07dsTAgQNx6dIlTufAOaEZGhqia9eu8PDwQFxcHNzd3Rt08NVn7ty5KC0tlW95eXkKn0slUlzZ/Qe2uGzF0cnJqHxaCd95Poi+MwXtenF7BUWVXbKkSoKzq86z1uFjTDLq21Q/OP0APUe7crapJhkTKS2ZvbjHx/3x9HYJDow+hG39duDGTzc5xQOQvX4ktdQhkQpYbwDQsWNHhcaCqnU+5syZo7TDvf72559/Ej0XVWRlZWHEiBGIjY3FkCFD5Pt79OiByZMnw8PDAz4+PtixYwd8fHywZs0aTvpaz0OTSqWN/stgZGQEIyPVw8wyu2QDEwO8PtMLPnNEMLXh/i9fY3bJ6QtO4vLWTAyY58Oq45yPMdXH9zMf7HvnB41sqknGRPr8ZPbiotmv4/fFp3D12yzsG/ED3k8PQ+c3O7E+R1LXj7SWOiS1Akhr1T9OMn+XycvLU3j1SdXvbObMmfjggw8a1XR2doZQKMSjR4oj1LW1tSguLoZQKFR6nFAoRHV1NUpKShRaaUVFRQ2OuX79Ovz9/TFp0iTMnz+/0XgAwMvLC6dOnVJbrj6cEtrcuXMxdOhQdOrUCc+ePUNiYiLS0tJw7NgxTl9aHz7aJfMxpvpoY1NNMiZdnZ+29uL/Bgt1ZUhqDaBXq/4nyfxdRtkaHcpo164d2rVT35oUiUQoKSmBWCyGh4cHAOD48eOQSqUKK63Xx8PDA61atUJqaipCQkIA1I1U3r9/X2Gw8Nq1axg8eDDCw8OxbNkytbEAQGZmJuzt7VmVlcEpoT169Ajjx49HQUEBLC0t4ebmhmPHjuGtt97i9KX14aNdMh9jehXR1F7832ShXp/qylbQM1Q/EMJUttLJ97u6uiIoKAgTJ05EfHw8ampqEB0djbFjx8LBoa4F/vDhQ/j7++Pbb7+Fl5cXLC0tERkZiZiYGFhbW8PCwgJTp06FSCTC66/X9e1mZWVh8ODBCAwMRExMjLxvTSAQyBPt2rVr4eTkhF69eqGyshLbtm3D8ePH8euvv3I6B04Jbfv27ZzEKRQKe2prBdCrYf/IqQsSEhIQHR0Nf39/6OvrIyQkBOvXr5d/XlNTg5ycHDx//ly+b82aNfKyVVVVCAwMxObNm+Wf//DDD3j8+DH27NmDPXv2yPd37twZd+/eBQBUV1dj5syZePjwIUxNTeHm5obffvsNgwYN4hQ/fZeTQuEJjMQAjITFT5JNGQ2xtrZGYmKiys8dHR0bjD4bGxvL7cGUsWjRIixatKjR7509ezZmz57NOd6XoQmNQuELtYK6jU05ilKoYy1BLT7GRFKLxsQeTfzQaELTHupYS6HoAE0cayEuBcxY/CbKywAPdtqvGtSxlqAWH2MiqUVjYo9mLbS/NzblKEqhjrU60OJjTCS1aEzq0cSxliY07aGDAhQKX6AJTWua3ctX146gmrieUsdaSrNQC6CGxUYTmko4JbS4uDi89tprMDc3h62tLYKDg5GTk6NVALpyBNXG9bQlO9bqwvkW0O78SMbEx/NjTRWHjaIUTgktPT0dUVFROHv2LFJSUlBTU4MhQ4agokLzzn3SjqAkXE9bsmOtLpxvAe3Oj2RMfDw/1tRy2ChK4ZTQkpOT8cEHH6BXr15wd3fHrl27cP/+fYjFYo0DIOkISsr1tKU71pJ0vgXInB/JmPh4fqygCU1rtOpDKy2tc+xU5jzJFRKOoKRdT1uqYy1J51uAzPmRjImP58cKCdglM9q1qxKNE5pUKsX06dPh6+uL3r17qyzH1oKbhCMoadfTlupYS1KH5PmRiomkFunr1yi0haY1Gie0qKgoZGVlISkpqdFy6iy4STqCknI9bemOtSR1SJ4fqZhIapG+fo1CE5rWaJTQoqOjceTIEZw4cQIdOnRotKw6C26ZI2h5QTlen+mF6NwpGLTUD8ZWxpqEJnc9nXJjMtwnuOHxtSfYN+IH3Dt5n7UGqZgac3S17tYGl7dmajTi5vtZXetDE8dakjq6OD9S50ZCS1fXTyVspmzINopSOE2sZRgGU6dOxcGDB5GWlgYnJye1x6iz4NaVI6g2rqct2bGWpI4uzo/UuZHQ0tX1U4kE7PrHaB+aSjgltKioKCQmJuJ///sfzM3N5c6TlpaWMDHRzDlD146gmrieUsdaSrMgGxRgU46iFE4JbcuWLQCAgQMHKuzfuXOn2kUYKBSKGipRN9eNTTmKUjg/clIoFB1B3+XUmmZ/l5NCofwND+ahFRcXIywsDBYWFrCyskJkZCTKy8sbPaayshJRUVFo27YtzMzMEBISgqKiIoUyytYCfXmGRFpaGvr37w8jIyN07doVu3bt4hw/TWgUCl/gwbSNsLAwXLt2DSkpKThy5AhOnjypsMK5MmbMmIHDhw9j//79SE9PR35+PkaOHNmg3M6dO1FQUCDfgoOD5Z/l5uZi2LBhGDRoEDIzMzF9+nR8+OGHnJfIpBbcBLX4GBNJLRoTezQyeKwBwMZdW0fTNrKzs5GcnIwLFy7A09MTALBhwwa8/fbb+Oqrr+RL2dWntLQU27dvR2JiIgYPHgygLnG5urri7Nmz8qXsAMDKykrlgsXx8fFwcnLCqlWrANQtqXfq1CmsWbMGgYGB7E+CaSI2btzIuLq6Mt27d2cAMKWlpU311RRKk1NaWsr6PpeVxYJSBssY9dsC9tpc2L59O2NlZaWwr6amhhEIBMyBAweUHpOamsoAYJ4+faqwv1OnTszq1avlfwNgHBwcmLZt2zKvvfYas337dkYqlco/f+ONN5hp06YpaOzYsYOxsLDgdA7UgpugFh9jIqlFY2JPU1hwv/waobo5n+ooLCyEra2twj4DAwNYW1vLp2gpO8bQ0BBWVlYK++3s7BSOWbx4MQYPHgxTU1P8+uuv+Pjjj1FeXo5PPvlErmNnZ9dAo6ysDC9evGA9LYxacOtAi48xkdSiMalHIwtujvPQXn6NMDY2Vun6l3PmzMGKFSsalczOzmYXo4YsWLBA/v/9+vVDRUUFvvzyS3lCIwW14KZQ+EIt2PWh/Z308vLyFFZ9UtU6mzlzptp5os7OzhAKhXj0SNG8sra2FsXFxSr7voRCIaqrq1FSUqLQSisqKlJ5DAB4e3tjyZIlqKqqgpGREYRCYYOR0aKiIlhYWHCatM/LUU5NbLObQosUmsakS2vwllRPukZncVVy2ABYWFgobKoSWrt27eDi4tLoZmhoCJFIhJKSEgV/w+PHj0MqlcLb21uptoeHB1q1aoXU1FT5vpycHNy/fx8iker3ZzMzM9GmTRt5zCKRSEEDAFJSUhrVUAbnhHby5EkMHz4cDg4O0NPTw6FDh7hKqEQb22xSWrqycNYmJhm6sAYnVeckLaq1iYnP108tzTwPzdXVFUFBQZg4cSLOnz+P06dPIzo6GmPHjpWPcD58+BAuLi44f77OacTS0hKRkZGIiYnBiRMnIBaLERERAZFIJB/hPHz4MLZt24asrCzcunULW7ZswRdffIGpU6fKv/ujjz7CnTt3MHv2bPz555/YvHkz9u3bhxkzZnA6B86PnBUVFXB3d8eECROUzjXRBEm1BJe/ycSpZWdQXlAOUxsTzrbZpLRkFs45B2/g4fl8ucuCzMLZO8aLs4UzqfPr8W53FN96igvrLuLnD4/izPIM+H3+BnqN7Qk9ffYv35OMScbLFtVc358lFROfr59aasGuiaHDeWgJCQmIjo6Gv78/9PX1ERISgvXr18s/r6mpQU5ODp4/fy7ft2bNGnnZqqoqBAYGYvPmzfLPW7VqhU2bNmHGjBlgGAZdu3bF6tWrMXHiRHkZJycn/Pzzz5gxYwbWrVuHDh06YNu2bdymbECDhDZ06FAMHTqU62Eqyb9YgB/fO4jSe6UwtjKG35I34T39NY2cZklp+X7mg5yDN3D6izMYfeg9AJpbOJM8P5k1uNe013BmeQbEmy/hUNhPdXEeHoU2TlZNHhNQz6J6XC+U5Jbi+r5s+C15k5P/GMmY+Hr91FIDdu9y6tA+yNraGomJiSo/d3R0bPAKpLGxMTZt2oRNmzYpPSYoKAhBQUFqv3vgwIG4fPkyt4BfQueDAlVVVaiq+meZmpeHmuvbZv9fyliYtuXmCKsLrZctnEvulqLoyiP0m9SXs4UzyfOTIbMG94z2wHcDE+TW4GwTGumY6ltUl9wtxd7/7EfGyrMY9jX7f/hIxsT366cSah+kNTofFFDnWEvSNpukFikLZ9K24ID21uAkYyJlUU26nvh8/VTCg1ef/u3oPKGpc6wlZZtNWouUhTPJmEhZg5OMiZRFNcmYAH5eP7Xw4OX0fzs6T2hGRkYNhpdfhoRtti60SNlBk4qJpF05iZhIW1STvHYA/66fWqgFt9bwamKtNrbZutAiaQdNIiZd2JVrE5OuLKpJ3Qd8u35qkYBdE4O20FTCOaGVl5fj1q1b8r9zc3ORmZkJa2trdOrUiUhQmthmN4UWKTSNSZfW4C2pnnSNzuKqBLtkRVtoKuGc0C5evIhBgwbJ/46JiQEAhIeHa2TIRqFQ/oZtZz8dFFAJ54Q2cOBAasVNoegCCdjNQ6OPnCrhVR8ahfJKQ1toWkMdawlq8TEmklo0JvZo7IdGstwriB7TRM+PslcjJBIJbty4gdLSUqVTOCiUloDMyJTNfS4ri36lgIDFb0JSBlxmp/2qQR1rCWrxMSaSWjQm9mjUQmPbN0b70FRCHWt1oMXHmEhq0ZjUo5FjbS3qJgKrgyY0ldBBAQqFL9CEpjXN7lirSxfWlgapunoV65yv7rcK1ILda090UEAlGiW0TZs2wdHREcbGxvD29pa7V2qCLlxYSbmnaqtD2j2VVF215Dp/Gb663yqlisNGUQrnhLZ3717ExMQgNjYWly5dgru7OwIDAxssrsCWHu92h+88H7z46wV+/vAotrhuRVbiNTBSzQdfX3ZPbS4dmXvq3dS7eHj+nz4ZmXtq/8n9OLmnkqqrllznMiTVElzcJMamLvFInXUcADR2vyV1/dRC7YO0hnNCk1nnRkREoGfPnoiPj4epqSl27NihUQAyF9aoO1PgHeOFZw+e4VDYT9jqtg1Pc0s468ndU8N6oYNvB1zfl43i29wHH0jpyGx1ZDY7gObuqaTqqqXXef7FAmzu/jWSo39F7Yta+C15E9G5H0P0X28YGHPrNiZ5/dRC3Ta0hlNCq66uhlgsRkBAwD8C+voICAhARobm/5oC/7iwTr4+ERadLOQurFyp757qO1cERsIgY+XZZtN52T315s+3UHTlEdzC+3B2T5VBqq5aap3Xd5n9+NZkvDHfV2PLbF1cP5VI8Y9rbWOb9j0EKikuLkZYWBgsLCxgZWWFyMhIlJeXN3pMZWUloqKi0LZtW5iZmSEkJERhSbpdu3ZBT09P6SZ7sktLS1P6uaoFjlXBKaE9efIEEolE6QrHqr64qqoKZWVlCpsytHVhBci5p5LSkUHKPVUGiboipcPHOuer+61aePDIGRYWhmvXriElJQVHjhzByZMnMWnSpEaPmTFjBg4fPoz9+/cjPT0d+fn5CgsojRkzBgUFBQpbYGAg/Pz8GqzUnpOTo1Du5c/V0ewW3KRcWAFy7qmkdGSQck8lVVctvc756n6rlmZOaNnZ2UhOTsa2bdvg7e2NAQMGYMOGDUhKSkJ+vvJ5eaWlpdi+fTtWr16NwYMHw8PDAzt37sSZM2dw9mxd69rExARCoVC+CQQCHD9+HJGRkQ30bG1tFcrq63NLUZxK29jYQCAQKF3hWNUqyeosuEm5sJJyTyXtwiqDhHsqqbp6Feqcr+63jdLMfWgZGRmwsrKCp6enfF9AQAD09fVx7tw5pceIxWLU1NQodEO5uLigU6dOKruhvv32W5iamuK9995r8Fnfvn1hb2+Pt956C6dPn+Z8Dpx6SA0NDeHh4YHU1FQEBwcDAKRSKVJTUxEdHa30GCMjI5UrOgPkXFhJuafqyoWVhHsqqbp6Veoc4K/7rVLY2gf9/fT8cveNut+aOgoLCxs84hkYGMDa2lpll1JhYSEMDQ1hZWWlsL+xbqjt27fj//7v/2Bi8s8Isb29PeLj4+Hp6Ymqqips27YNAwcOxLlz59C/f3/W58D5TYGYmBiEh4fD09MTXl5eWLt2LSoqKhAREcFVCoBuXVhbGqTq6lWsc7663zaAQ1ffy903sbGxWLRoUYNyc+bMwYoVKxrVys7OZv/FWpCRkYHs7Gx89913Cvt79OiBHj16yP/28fHB7du3sWbNmgZlG4NzQhszZgweP36MhQsXorCwEH379kVycnKDgQIKhaJb8vLyFNw2VLXOZs6ciQ8++KBRLWdnZwiFwgbzSWtra1FcXKyyS0koFKK6uholJSUKrTRV3VDbtm1D37594eHh0Wg8AODl5YVTp06pLVcfjd7ljI6OVvmISaFQmgZVq6i9TLt27dCunfrBHpFIhJKSEojFYnnCOX78OKRSKby9vZUe4+HhgVatWiE1NRUhISEA6kYq79+/D5FIsa+xvLwc+/btQ1xcnNpYACAzMxP29vasysqgL6dTKLyBbY+/bkYFXF1dERQUhIkTJyI+Ph41NTWIjo7G2LFj4eBQN1jz8OFD+Pv749tvv4WXlxcsLS0RGRmJmJgYWFtbw8LCAlOnToVIJMLrrytObdm7dy9qa2sxbty4Bt+9du1aODk5oVevXqisrMS2bdtw/Phx/Prrr5zOgSY0CoU3sJ2TobuJaAkJCYiOjoa/vz/09fUREhKC9evXyz+vqalBTk4Onj9/Lt+3Zs0aedmqqioEBgZi8+bNDbS3b9+OkSNHNhhAAOom7c+cORMPHz6Eqakp3Nzc8NtvvyksyMSGJk9osgmOpmUaGODVwxStUYYymKK1Zt5TOtDiY0wktWhMHLT+vr+5Teht3hYaAFhbWyMxMVHl546Ojg3OydjYWO5I3RhnzpxR+dns2bMxe/ZsbsEqocktuKurq3H79u2m+EoKpdnJy8tDhw4dGi0jt+BGLgA2ltplAJyoBbcSmiyhyZBKpejevTvEYrHKOUFlZWXo2LFjg1Gcl3nttddw4cIFlZ+z1SGppU6HpBYfz4+PMZHUYqvDMAw8PDxw48YNtbPd/0loNwGweT/0GYBuNKEpockfOfX19WFoaPj3BWwcdaM4AoGA1QVlMxpESoutDkktPp4fH2MiqcXm/AwNDTm+utP8j5z/dpplUCAqKopXOiS1+BgTSS0aky61mn9Q4N9Okz9ysoHLEmBNocNXLRpT02uRjOllTeA8ADavopUD8KKPnErg5bQNIyMjxMbGavVeGkkdvmrRmJpei2RMDaGPnNrCyxYahfIq8U8LLR3sW2h+tIWmBF620CiUVxPZsk9sylGUQRMahcIb6KCAttCERqHwBtqHpi00oVEovIG20LSl2VdOfxlSixifPHkSw4cPh4ODA/T09HDo0CGNdOLi4vDaa6/B3Nwctra2CA4ORk5ODmedLVu2wM3NTT4hUyQS4ZdfftEoppdZvnw59PT0MH36dM7HLlq0qMFKOy4uLhrF8fDhQ4wbNw5t27aFiYkJ+vTpg4sXL3LWcXR0VLoCENd5XRKJBAsWLICTkxNMTEzQpUsXLFmyROMFU549e4bp06ejc+fOMDExgY+Pj9o3FLhBl07XFl4lNJKLGFdUVMDd3V3tC7PqSE9PR1RUFM6ePYuUlBTU1NRgyJAhqKio4KTToUMHLF++HGKxGBcvXsTgwYMxYsQIXLt2Tav4Lly4gK+//hpubm4aa/Tq1UthpR2upnoA8PTpU/j6+qJVq1b45ZdfcP36daxatQpt2nB/yfvChQsK8aSkpAAARo0axUlnxYoV2LJlCzZu3Ijs7GysWLECK1euxIYNGzjHBAAffvghUlJS8N133+Hq1asYMmQIAgIC8PDhQ430GsKDZZ/+7TA8wsvLi4mKipL/LZFIGAcHByYuLk4rXQDMwYMHtYyujkePHjEAmPT0dK212rRpw2zbtk3j4589e8Z069aNSUlJYfz8/Jhp06Zx1oiNjWXc3d01jkHGp59+ygwYMEBrHWVMmzaN6dKlCyOVSjkdN2zYMGbChAkK+0aOHMmEhYVxjuH58+eMQCBgjhw5orC/f//+zLx58zjr1ae0tJQBwAA7GCCJxbaDAcCUlpZq9b0tEd600HS5iDFJSkvrFuK1trbWWEMikSApKQkVFRUNXD25EBUVhWHDhinUmSbcvHkTDg4OcHZ2RlhYGO7f574y0k8//QRPT0+MGjUKtra26NevH7755hut4gLq7os9e/ZgwoQJnBc48fHxQWpqKm7cuAEAuHLlCk6dOoWhQ4dyjqO2thYSiQTGxoorY5mYmGjUolXxLRw2ijJ4MyjQ2CLGf/75ZzNFpYhUKsX06dPh6+uL3r17cz7+6tWrEIlEqKyshJmZGQ4ePIiePXtqFEtSUhIuXbqkdR+Ot7c3du3ahR49eqCgoACff/453njjDWRlZcHcnP3K4Hfu3MGWLVsQExODzz77DBcuXMAnn3wCQ0NDhIeHaxzfoUOHUFJSotYTXxlz5sxBWVkZXFxcIBAIIJFIsGzZMoSFhXHWMjc3h0gkwpIlS+Dq6go7Ozt8//33yMjIQNeuXTnrKYfOQ9MW3iS0fwNRUVHIysrS+F/kHj16IDMzE6Wlpfjhhx8QHh6O9PR0zkktLy8P06ZNQ0pKSoMWA1fqt1bc3Nzg7e2Nzp07Y9++fUoXglWFVCqFp6cnvvjiCwBAv379kJWVhfj4eK0S2vbt2zF06FC5BTQX9u3bh4SEBCQmJqJXr17IzMzE9OnT4eDgoFFM3333HSZMmID27dtDIBCgf//+CA0NhVgs5qylHDrKqS28SWiaLGLclERHR+PIkSM4efKkWsM+VRgaGsr/Nffw8MCFCxewbt06fP3115x0xGIxHj16pLBeoUQiwcmTJ7Fx40ZUVVVBIBBoFKOVlRW6d++OW7ducTrO3t6+QWJ2dXXFjz/+qFEcAHDv3j389ttvOHDggEbHz5o1C3PmzMHYsWMBAH369MG9e/cQFxenUULr0qUL0tPTUVFRgbKyMtjb22PMmDFwdnbWKL6G1IDdT5LOQ1MFb/rQ6i9iLEO2iLE2/UzawjAMoqOjcfDgQRw/fhxOTk7EtKVSKaqqqjgf5+/vj6tXryIzM1O+eXp6IiwsDJmZmRonM6BuZZ7bt29zXm3H19e3wXSWGzduoHPnzhrHsnPnTtja2mLYsGEaHf/8+fMGfmQCgQBSqVTjmACgdevWsLe3x9OnT3Hs2DGMGEFqvc/m70MrLi5GWFgYLCwsYGVlhcjISJSXlzd6zNatWzFw4EBYWFhAT08PJSUlGun+8ccfeOONN2BsbIyOHTti5cqV3E+guUcl6pOUlMQYGRkxu3btYq5fv85MmjSJsbKyYgoLCzlrPXv2jLl8+TJz+fJlBgCzevVq5vLly8y9e/c46UyZMoWxtLRk0tLSmIKCAvn2/PlzTjpz5sxh0tPTmdzcXOaPP/5g5syZw+jp6TG//vorJx1VaDrKOXPmTCYtLY3Jzc1lTp8+zQQEBDA2NjbMo0ePOOmcP3+eMTAwYJYtW8bcvHmTSUhIYExNTZk9e/Zwjolh6ka4O3XqxHz66acaHc8wDBMeHs60b9+eOXLkCJObm8scOHCAsbGxYWbPnq2RXnJyMvPLL78wd+7cYX799VfG3d2d8fb2ZqqrqzWOkWHqj3IuY4BVLLZlOhvlDAoKYtzd3ZmzZ88yv//+O9O1a1cmNDS00WPWrFnDxMXFMXFxcQwA5unTp5x1S0tLGTs7OyYsLIzJyspivv/+e8bExIT5+uuvOcXPq4TGMAyzYcMGplOnToyhoSHj5eXFnD17ViOdEydO/H2TKG7h4eGcdJRpAGB27tzJSWfChAlM586dGUNDQ6Zdu3aMv78/sWTGMJontDFjxjD29vaMoaEh0759e2bMmDHMrVu3NIrh8OHDTO/evRkjIyPGxcWF2bp1q0Y6DMMwx44dYwAwOTk5GmuUlZUx06ZNYzp16sQYGxszzs7OzLx585iqqiqN9Pbu3cs4OzszhoaGjFAoZKKiopiSkhKN45PxT0L7nAFWsNg+10lCu379OgOAuXDhgnzfL7/8wujp6TEPHz5Ue7zsN/dyQmOju3nzZqZNmzYK1+bTTz9levTowekcqH0QhdLM/GMfNB8Am0GeSgBLidsH7dixAzNnzsTTp0/l+2pra2FsbIz9+/fj3XffbfT4tLQ0DBo0CE+fPlVYqo6N7vjx41FWVqbwRs+JEycwePBgFBcXs56gzZtBAQqFUgF2/WN1/a5lZWUKe42MjLQyniwsLIStra3CPgMDA1hbW6OwsFCnuoWFhQ36p2VTuAoLC2lCo1D+LRgaGkIoFKKwcA3rY8zMzNCxY0eFfbGxsVi0aFGDsnPmzMGKFSsa1cvOzmb93XyGJjQKpZkxNjZGbm4uqqurWR/DMEyDNydUtc5mzpypdmKys7MzhEJhg/ema2trUVxcrNXUKTa6QqFQ6ZQt2WdsoQmNQuEBxsbGWk+SVkW7du3Qrl07teVEIhFKSkogFovh4eEBADh+/DikUim8vb01/n42uiKRCPPmzUNNTQ1atWoFAEhJSUGPHj24GRxwGkKgUCgtmqCgIKZfv37MuXPnmFOnTjHdunVTmF7x4MEDpkePHsy5c+fk+woKCpjLly8z33zzDQOAOXnyJHP58mXmr7/+Yq1bUlLC2NnZMe+//z6TlZXFJCUlMaampv/+aRsUCqX5+Ouvv5jQ0FDGzMyMsbCwYCIiIphnz57JP8/NzWUAMCdOnJDvi42NVTu1SZ0uwzDMlStXmAEDBjBGRkZM+/btmeXLl3OOn07boFAoLQbevPpEoVAo2kITGoVCaTHQhEahUFoMNKFRKJQWA01oFAqlxUATGoVCaTHQhEahUFoMNKFRKJQWA01oFAqlxUATGoVCaTHQhEahUFoMNKFRKJQWw/8DAgPbZ+DKUwUAAAAASUVORK5CYII=\n"
                },
                "metadata": {}
              }
            ]
          }
        },
        "ebff08c0b0a64756a0d7dcbe2f90be63": {
          "model_module": "@jupyter-widgets/base",
          "model_name": "LayoutModel",
          "model_module_version": "1.2.0",
          "state": {
            "_model_module": "@jupyter-widgets/base",
            "_model_module_version": "1.2.0",
            "_model_name": "LayoutModel",
            "_view_count": null,
            "_view_module": "@jupyter-widgets/base",
            "_view_module_version": "1.2.0",
            "_view_name": "LayoutView",
            "align_content": null,
            "align_items": null,
            "align_self": null,
            "border": null,
            "bottom": null,
            "display": null,
            "flex": null,
            "flex_flow": null,
            "grid_area": null,
            "grid_auto_columns": null,
            "grid_auto_flow": null,
            "grid_auto_rows": null,
            "grid_column": null,
            "grid_gap": null,
            "grid_row": null,
            "grid_template_areas": null,
            "grid_template_columns": null,
            "grid_template_rows": null,
            "height": null,
            "justify_content": null,
            "justify_items": null,
            "left": null,
            "margin": null,
            "max_height": null,
            "max_width": null,
            "min_height": null,
            "min_width": null,
            "object_fit": null,
            "object_position": null,
            "order": null,
            "overflow": null,
            "overflow_x": null,
            "overflow_y": null,
            "padding": null,
            "right": null,
            "top": null,
            "visibility": null,
            "width": null
          }
        },
        "d57c64c13804468588e7bb89fef40198": {
          "model_module": "@jupyter-widgets/base",
          "model_name": "LayoutModel",
          "model_module_version": "1.2.0",
          "state": {
            "_model_module": "@jupyter-widgets/base",
            "_model_module_version": "1.2.0",
            "_model_name": "LayoutModel",
            "_view_count": null,
            "_view_module": "@jupyter-widgets/base",
            "_view_module_version": "1.2.0",
            "_view_name": "LayoutView",
            "align_content": null,
            "align_items": null,
            "align_self": null,
            "border": null,
            "bottom": null,
            "display": null,
            "flex": null,
            "flex_flow": null,
            "grid_area": null,
            "grid_auto_columns": null,
            "grid_auto_flow": null,
            "grid_auto_rows": null,
            "grid_column": null,
            "grid_gap": null,
            "grid_row": null,
            "grid_template_areas": null,
            "grid_template_columns": null,
            "grid_template_rows": null,
            "height": null,
            "justify_content": null,
            "justify_items": null,
            "left": null,
            "margin": null,
            "max_height": null,
            "max_width": null,
            "min_height": null,
            "min_width": null,
            "object_fit": null,
            "object_position": null,
            "order": null,
            "overflow": null,
            "overflow_x": null,
            "overflow_y": null,
            "padding": null,
            "right": null,
            "top": null,
            "visibility": null,
            "width": null
          }
        },
        "532f6760ad664852b7856dce04089df0": {
          "model_module": "@jupyter-widgets/controls",
          "model_name": "SliderStyleModel",
          "model_module_version": "1.5.0",
          "state": {
            "_model_module": "@jupyter-widgets/controls",
            "_model_module_version": "1.5.0",
            "_model_name": "SliderStyleModel",
            "_view_count": null,
            "_view_module": "@jupyter-widgets/base",
            "_view_module_version": "1.2.0",
            "_view_name": "StyleView",
            "description_width": "",
            "handle_color": null
          }
        },
        "79ac191693c34f16a9072420ca8fca69": {
          "model_module": "@jupyter-widgets/base",
          "model_name": "LayoutModel",
          "model_module_version": "1.2.0",
          "state": {
            "_model_module": "@jupyter-widgets/base",
            "_model_module_version": "1.2.0",
            "_model_name": "LayoutModel",
            "_view_count": null,
            "_view_module": "@jupyter-widgets/base",
            "_view_module_version": "1.2.0",
            "_view_name": "LayoutView",
            "align_content": null,
            "align_items": null,
            "align_self": null,
            "border": null,
            "bottom": null,
            "display": null,
            "flex": null,
            "flex_flow": null,
            "grid_area": null,
            "grid_auto_columns": null,
            "grid_auto_flow": null,
            "grid_auto_rows": null,
            "grid_column": null,
            "grid_gap": null,
            "grid_row": null,
            "grid_template_areas": null,
            "grid_template_columns": null,
            "grid_template_rows": null,
            "height": null,
            "justify_content": null,
            "justify_items": null,
            "left": null,
            "margin": null,
            "max_height": null,
            "max_width": null,
            "min_height": null,
            "min_width": null,
            "object_fit": null,
            "object_position": null,
            "order": null,
            "overflow": null,
            "overflow_x": null,
            "overflow_y": null,
            "padding": null,
            "right": null,
            "top": null,
            "visibility": null,
            "width": null
          }
        }
      }
    }
  },
  "nbformat": 4,
  "nbformat_minor": 0
}